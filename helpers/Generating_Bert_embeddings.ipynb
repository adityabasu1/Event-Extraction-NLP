{
  "nbformat": 4,
  "nbformat_minor": 0,
  "metadata": {
    "colab": {
      "name": "Generating_Bert_embeddings.ipynb",
      "provenance": []
    },
    "kernelspec": {
      "name": "python3",
      "display_name": "Python 3"
    },
    "language_info": {
      "name": "python"
    },
    "widgets": {
      "application/vnd.jupyter.widget-state+json": {
        "4c3fcee595494c1d9ada4670746101c9": {
          "model_module": "@jupyter-widgets/controls",
          "model_name": "HBoxModel",
          "model_module_version": "1.5.0",
          "state": {
            "_view_name": "HBoxView",
            "_dom_classes": [],
            "_model_name": "HBoxModel",
            "_view_module": "@jupyter-widgets/controls",
            "_model_module_version": "1.5.0",
            "_view_count": null,
            "_view_module_version": "1.5.0",
            "box_style": "",
            "layout": "IPY_MODEL_74a87160e550475e9f7d4cec657bc6ed",
            "_model_module": "@jupyter-widgets/controls",
            "children": [
              "IPY_MODEL_d9b9afaede6341c89b1a7895050236f7",
              "IPY_MODEL_68fb1ffd1ae1423b83d4dbc284556066",
              "IPY_MODEL_b28adddef4bb4c94a355e1bc5b8538db"
            ]
          }
        },
        "74a87160e550475e9f7d4cec657bc6ed": {
          "model_module": "@jupyter-widgets/base",
          "model_name": "LayoutModel",
          "model_module_version": "1.2.0",
          "state": {
            "_view_name": "LayoutView",
            "grid_template_rows": null,
            "right": null,
            "justify_content": null,
            "_view_module": "@jupyter-widgets/base",
            "overflow": null,
            "_model_module_version": "1.2.0",
            "_view_count": null,
            "flex_flow": null,
            "width": null,
            "min_width": null,
            "border": null,
            "align_items": null,
            "bottom": null,
            "_model_module": "@jupyter-widgets/base",
            "top": null,
            "grid_column": null,
            "overflow_y": null,
            "overflow_x": null,
            "grid_auto_flow": null,
            "grid_area": null,
            "grid_template_columns": null,
            "flex": null,
            "_model_name": "LayoutModel",
            "justify_items": null,
            "grid_row": null,
            "max_height": null,
            "align_content": null,
            "visibility": null,
            "align_self": null,
            "height": null,
            "min_height": null,
            "padding": null,
            "grid_auto_rows": null,
            "grid_gap": null,
            "max_width": null,
            "order": null,
            "_view_module_version": "1.2.0",
            "grid_template_areas": null,
            "object_position": null,
            "object_fit": null,
            "grid_auto_columns": null,
            "margin": null,
            "display": null,
            "left": null
          }
        },
        "d9b9afaede6341c89b1a7895050236f7": {
          "model_module": "@jupyter-widgets/controls",
          "model_name": "HTMLModel",
          "model_module_version": "1.5.0",
          "state": {
            "_view_name": "HTMLView",
            "style": "IPY_MODEL_7e5ec0599f524412b1a7747eae41e1e7",
            "_dom_classes": [],
            "description": "",
            "_model_name": "HTMLModel",
            "placeholder": "​",
            "_view_module": "@jupyter-widgets/controls",
            "_model_module_version": "1.5.0",
            "value": "Downloading: 100%",
            "_view_count": null,
            "_view_module_version": "1.5.0",
            "description_tooltip": null,
            "_model_module": "@jupyter-widgets/controls",
            "layout": "IPY_MODEL_601f4439515a44479a0485fb544589fa"
          }
        },
        "68fb1ffd1ae1423b83d4dbc284556066": {
          "model_module": "@jupyter-widgets/controls",
          "model_name": "FloatProgressModel",
          "model_module_version": "1.5.0",
          "state": {
            "_view_name": "ProgressView",
            "style": "IPY_MODEL_02ea2d5347e24e9aa55c1b8d4f1e9b9e",
            "_dom_classes": [],
            "description": "",
            "_model_name": "FloatProgressModel",
            "bar_style": "success",
            "max": 231508,
            "_view_module": "@jupyter-widgets/controls",
            "_model_module_version": "1.5.0",
            "value": 231508,
            "_view_count": null,
            "_view_module_version": "1.5.0",
            "orientation": "horizontal",
            "min": 0,
            "description_tooltip": null,
            "_model_module": "@jupyter-widgets/controls",
            "layout": "IPY_MODEL_e17f5a9c56a74c88836027b51c464ed5"
          }
        },
        "b28adddef4bb4c94a355e1bc5b8538db": {
          "model_module": "@jupyter-widgets/controls",
          "model_name": "HTMLModel",
          "model_module_version": "1.5.0",
          "state": {
            "_view_name": "HTMLView",
            "style": "IPY_MODEL_a67242ec1a2249b9bff92275063af159",
            "_dom_classes": [],
            "description": "",
            "_model_name": "HTMLModel",
            "placeholder": "​",
            "_view_module": "@jupyter-widgets/controls",
            "_model_module_version": "1.5.0",
            "value": " 226k/226k [00:00&lt;00:00, 1.06MB/s]",
            "_view_count": null,
            "_view_module_version": "1.5.0",
            "description_tooltip": null,
            "_model_module": "@jupyter-widgets/controls",
            "layout": "IPY_MODEL_81d5da92079546ee84f91654a0989794"
          }
        },
        "7e5ec0599f524412b1a7747eae41e1e7": {
          "model_module": "@jupyter-widgets/controls",
          "model_name": "DescriptionStyleModel",
          "model_module_version": "1.5.0",
          "state": {
            "_view_name": "StyleView",
            "_model_name": "DescriptionStyleModel",
            "description_width": "",
            "_view_module": "@jupyter-widgets/base",
            "_model_module_version": "1.5.0",
            "_view_count": null,
            "_view_module_version": "1.2.0",
            "_model_module": "@jupyter-widgets/controls"
          }
        },
        "601f4439515a44479a0485fb544589fa": {
          "model_module": "@jupyter-widgets/base",
          "model_name": "LayoutModel",
          "model_module_version": "1.2.0",
          "state": {
            "_view_name": "LayoutView",
            "grid_template_rows": null,
            "right": null,
            "justify_content": null,
            "_view_module": "@jupyter-widgets/base",
            "overflow": null,
            "_model_module_version": "1.2.0",
            "_view_count": null,
            "flex_flow": null,
            "width": null,
            "min_width": null,
            "border": null,
            "align_items": null,
            "bottom": null,
            "_model_module": "@jupyter-widgets/base",
            "top": null,
            "grid_column": null,
            "overflow_y": null,
            "overflow_x": null,
            "grid_auto_flow": null,
            "grid_area": null,
            "grid_template_columns": null,
            "flex": null,
            "_model_name": "LayoutModel",
            "justify_items": null,
            "grid_row": null,
            "max_height": null,
            "align_content": null,
            "visibility": null,
            "align_self": null,
            "height": null,
            "min_height": null,
            "padding": null,
            "grid_auto_rows": null,
            "grid_gap": null,
            "max_width": null,
            "order": null,
            "_view_module_version": "1.2.0",
            "grid_template_areas": null,
            "object_position": null,
            "object_fit": null,
            "grid_auto_columns": null,
            "margin": null,
            "display": null,
            "left": null
          }
        },
        "02ea2d5347e24e9aa55c1b8d4f1e9b9e": {
          "model_module": "@jupyter-widgets/controls",
          "model_name": "ProgressStyleModel",
          "model_module_version": "1.5.0",
          "state": {
            "_view_name": "StyleView",
            "_model_name": "ProgressStyleModel",
            "description_width": "",
            "_view_module": "@jupyter-widgets/base",
            "_model_module_version": "1.5.0",
            "_view_count": null,
            "_view_module_version": "1.2.0",
            "bar_color": null,
            "_model_module": "@jupyter-widgets/controls"
          }
        },
        "e17f5a9c56a74c88836027b51c464ed5": {
          "model_module": "@jupyter-widgets/base",
          "model_name": "LayoutModel",
          "model_module_version": "1.2.0",
          "state": {
            "_view_name": "LayoutView",
            "grid_template_rows": null,
            "right": null,
            "justify_content": null,
            "_view_module": "@jupyter-widgets/base",
            "overflow": null,
            "_model_module_version": "1.2.0",
            "_view_count": null,
            "flex_flow": null,
            "width": null,
            "min_width": null,
            "border": null,
            "align_items": null,
            "bottom": null,
            "_model_module": "@jupyter-widgets/base",
            "top": null,
            "grid_column": null,
            "overflow_y": null,
            "overflow_x": null,
            "grid_auto_flow": null,
            "grid_area": null,
            "grid_template_columns": null,
            "flex": null,
            "_model_name": "LayoutModel",
            "justify_items": null,
            "grid_row": null,
            "max_height": null,
            "align_content": null,
            "visibility": null,
            "align_self": null,
            "height": null,
            "min_height": null,
            "padding": null,
            "grid_auto_rows": null,
            "grid_gap": null,
            "max_width": null,
            "order": null,
            "_view_module_version": "1.2.0",
            "grid_template_areas": null,
            "object_position": null,
            "object_fit": null,
            "grid_auto_columns": null,
            "margin": null,
            "display": null,
            "left": null
          }
        },
        "a67242ec1a2249b9bff92275063af159": {
          "model_module": "@jupyter-widgets/controls",
          "model_name": "DescriptionStyleModel",
          "model_module_version": "1.5.0",
          "state": {
            "_view_name": "StyleView",
            "_model_name": "DescriptionStyleModel",
            "description_width": "",
            "_view_module": "@jupyter-widgets/base",
            "_model_module_version": "1.5.0",
            "_view_count": null,
            "_view_module_version": "1.2.0",
            "_model_module": "@jupyter-widgets/controls"
          }
        },
        "81d5da92079546ee84f91654a0989794": {
          "model_module": "@jupyter-widgets/base",
          "model_name": "LayoutModel",
          "model_module_version": "1.2.0",
          "state": {
            "_view_name": "LayoutView",
            "grid_template_rows": null,
            "right": null,
            "justify_content": null,
            "_view_module": "@jupyter-widgets/base",
            "overflow": null,
            "_model_module_version": "1.2.0",
            "_view_count": null,
            "flex_flow": null,
            "width": null,
            "min_width": null,
            "border": null,
            "align_items": null,
            "bottom": null,
            "_model_module": "@jupyter-widgets/base",
            "top": null,
            "grid_column": null,
            "overflow_y": null,
            "overflow_x": null,
            "grid_auto_flow": null,
            "grid_area": null,
            "grid_template_columns": null,
            "flex": null,
            "_model_name": "LayoutModel",
            "justify_items": null,
            "grid_row": null,
            "max_height": null,
            "align_content": null,
            "visibility": null,
            "align_self": null,
            "height": null,
            "min_height": null,
            "padding": null,
            "grid_auto_rows": null,
            "grid_gap": null,
            "max_width": null,
            "order": null,
            "_view_module_version": "1.2.0",
            "grid_template_areas": null,
            "object_position": null,
            "object_fit": null,
            "grid_auto_columns": null,
            "margin": null,
            "display": null,
            "left": null
          }
        },
        "c08c79b09f0d49c2aae25a7b55998ce8": {
          "model_module": "@jupyter-widgets/controls",
          "model_name": "HBoxModel",
          "model_module_version": "1.5.0",
          "state": {
            "_view_name": "HBoxView",
            "_dom_classes": [],
            "_model_name": "HBoxModel",
            "_view_module": "@jupyter-widgets/controls",
            "_model_module_version": "1.5.0",
            "_view_count": null,
            "_view_module_version": "1.5.0",
            "box_style": "",
            "layout": "IPY_MODEL_8426e2898187469ea2ad6c6fbc02a783",
            "_model_module": "@jupyter-widgets/controls",
            "children": [
              "IPY_MODEL_a77f3aa44563424081cf16a48e580022",
              "IPY_MODEL_22382415bfef45689b990096d83edc9e",
              "IPY_MODEL_1d65e9265c6743a4960011f20910734c"
            ]
          }
        },
        "8426e2898187469ea2ad6c6fbc02a783": {
          "model_module": "@jupyter-widgets/base",
          "model_name": "LayoutModel",
          "model_module_version": "1.2.0",
          "state": {
            "_view_name": "LayoutView",
            "grid_template_rows": null,
            "right": null,
            "justify_content": null,
            "_view_module": "@jupyter-widgets/base",
            "overflow": null,
            "_model_module_version": "1.2.0",
            "_view_count": null,
            "flex_flow": null,
            "width": null,
            "min_width": null,
            "border": null,
            "align_items": null,
            "bottom": null,
            "_model_module": "@jupyter-widgets/base",
            "top": null,
            "grid_column": null,
            "overflow_y": null,
            "overflow_x": null,
            "grid_auto_flow": null,
            "grid_area": null,
            "grid_template_columns": null,
            "flex": null,
            "_model_name": "LayoutModel",
            "justify_items": null,
            "grid_row": null,
            "max_height": null,
            "align_content": null,
            "visibility": null,
            "align_self": null,
            "height": null,
            "min_height": null,
            "padding": null,
            "grid_auto_rows": null,
            "grid_gap": null,
            "max_width": null,
            "order": null,
            "_view_module_version": "1.2.0",
            "grid_template_areas": null,
            "object_position": null,
            "object_fit": null,
            "grid_auto_columns": null,
            "margin": null,
            "display": null,
            "left": null
          }
        },
        "a77f3aa44563424081cf16a48e580022": {
          "model_module": "@jupyter-widgets/controls",
          "model_name": "HTMLModel",
          "model_module_version": "1.5.0",
          "state": {
            "_view_name": "HTMLView",
            "style": "IPY_MODEL_6cbf244d50cc43d286121bbe10541ab4",
            "_dom_classes": [],
            "description": "",
            "_model_name": "HTMLModel",
            "placeholder": "​",
            "_view_module": "@jupyter-widgets/controls",
            "_model_module_version": "1.5.0",
            "value": "Downloading: 100%",
            "_view_count": null,
            "_view_module_version": "1.5.0",
            "description_tooltip": null,
            "_model_module": "@jupyter-widgets/controls",
            "layout": "IPY_MODEL_44a605cfd9de45bdbe978f3503049dfc"
          }
        },
        "22382415bfef45689b990096d83edc9e": {
          "model_module": "@jupyter-widgets/controls",
          "model_name": "FloatProgressModel",
          "model_module_version": "1.5.0",
          "state": {
            "_view_name": "ProgressView",
            "style": "IPY_MODEL_49fbb1ede991479dad92da6aa478b163",
            "_dom_classes": [],
            "description": "",
            "_model_name": "FloatProgressModel",
            "bar_style": "success",
            "max": 28,
            "_view_module": "@jupyter-widgets/controls",
            "_model_module_version": "1.5.0",
            "value": 28,
            "_view_count": null,
            "_view_module_version": "1.5.0",
            "orientation": "horizontal",
            "min": 0,
            "description_tooltip": null,
            "_model_module": "@jupyter-widgets/controls",
            "layout": "IPY_MODEL_ca31a7a43ee64cb2ac87e4202a545de0"
          }
        },
        "1d65e9265c6743a4960011f20910734c": {
          "model_module": "@jupyter-widgets/controls",
          "model_name": "HTMLModel",
          "model_module_version": "1.5.0",
          "state": {
            "_view_name": "HTMLView",
            "style": "IPY_MODEL_337748baf8984d179a08cf3008871216",
            "_dom_classes": [],
            "description": "",
            "_model_name": "HTMLModel",
            "placeholder": "​",
            "_view_module": "@jupyter-widgets/controls",
            "_model_module_version": "1.5.0",
            "value": " 28.0/28.0 [00:00&lt;00:00, 590B/s]",
            "_view_count": null,
            "_view_module_version": "1.5.0",
            "description_tooltip": null,
            "_model_module": "@jupyter-widgets/controls",
            "layout": "IPY_MODEL_917b9a14e8fd416db7b8c637a746078c"
          }
        },
        "6cbf244d50cc43d286121bbe10541ab4": {
          "model_module": "@jupyter-widgets/controls",
          "model_name": "DescriptionStyleModel",
          "model_module_version": "1.5.0",
          "state": {
            "_view_name": "StyleView",
            "_model_name": "DescriptionStyleModel",
            "description_width": "",
            "_view_module": "@jupyter-widgets/base",
            "_model_module_version": "1.5.0",
            "_view_count": null,
            "_view_module_version": "1.2.0",
            "_model_module": "@jupyter-widgets/controls"
          }
        },
        "44a605cfd9de45bdbe978f3503049dfc": {
          "model_module": "@jupyter-widgets/base",
          "model_name": "LayoutModel",
          "model_module_version": "1.2.0",
          "state": {
            "_view_name": "LayoutView",
            "grid_template_rows": null,
            "right": null,
            "justify_content": null,
            "_view_module": "@jupyter-widgets/base",
            "overflow": null,
            "_model_module_version": "1.2.0",
            "_view_count": null,
            "flex_flow": null,
            "width": null,
            "min_width": null,
            "border": null,
            "align_items": null,
            "bottom": null,
            "_model_module": "@jupyter-widgets/base",
            "top": null,
            "grid_column": null,
            "overflow_y": null,
            "overflow_x": null,
            "grid_auto_flow": null,
            "grid_area": null,
            "grid_template_columns": null,
            "flex": null,
            "_model_name": "LayoutModel",
            "justify_items": null,
            "grid_row": null,
            "max_height": null,
            "align_content": null,
            "visibility": null,
            "align_self": null,
            "height": null,
            "min_height": null,
            "padding": null,
            "grid_auto_rows": null,
            "grid_gap": null,
            "max_width": null,
            "order": null,
            "_view_module_version": "1.2.0",
            "grid_template_areas": null,
            "object_position": null,
            "object_fit": null,
            "grid_auto_columns": null,
            "margin": null,
            "display": null,
            "left": null
          }
        },
        "49fbb1ede991479dad92da6aa478b163": {
          "model_module": "@jupyter-widgets/controls",
          "model_name": "ProgressStyleModel",
          "model_module_version": "1.5.0",
          "state": {
            "_view_name": "StyleView",
            "_model_name": "ProgressStyleModel",
            "description_width": "",
            "_view_module": "@jupyter-widgets/base",
            "_model_module_version": "1.5.0",
            "_view_count": null,
            "_view_module_version": "1.2.0",
            "bar_color": null,
            "_model_module": "@jupyter-widgets/controls"
          }
        },
        "ca31a7a43ee64cb2ac87e4202a545de0": {
          "model_module": "@jupyter-widgets/base",
          "model_name": "LayoutModel",
          "model_module_version": "1.2.0",
          "state": {
            "_view_name": "LayoutView",
            "grid_template_rows": null,
            "right": null,
            "justify_content": null,
            "_view_module": "@jupyter-widgets/base",
            "overflow": null,
            "_model_module_version": "1.2.0",
            "_view_count": null,
            "flex_flow": null,
            "width": null,
            "min_width": null,
            "border": null,
            "align_items": null,
            "bottom": null,
            "_model_module": "@jupyter-widgets/base",
            "top": null,
            "grid_column": null,
            "overflow_y": null,
            "overflow_x": null,
            "grid_auto_flow": null,
            "grid_area": null,
            "grid_template_columns": null,
            "flex": null,
            "_model_name": "LayoutModel",
            "justify_items": null,
            "grid_row": null,
            "max_height": null,
            "align_content": null,
            "visibility": null,
            "align_self": null,
            "height": null,
            "min_height": null,
            "padding": null,
            "grid_auto_rows": null,
            "grid_gap": null,
            "max_width": null,
            "order": null,
            "_view_module_version": "1.2.0",
            "grid_template_areas": null,
            "object_position": null,
            "object_fit": null,
            "grid_auto_columns": null,
            "margin": null,
            "display": null,
            "left": null
          }
        },
        "337748baf8984d179a08cf3008871216": {
          "model_module": "@jupyter-widgets/controls",
          "model_name": "DescriptionStyleModel",
          "model_module_version": "1.5.0",
          "state": {
            "_view_name": "StyleView",
            "_model_name": "DescriptionStyleModel",
            "description_width": "",
            "_view_module": "@jupyter-widgets/base",
            "_model_module_version": "1.5.0",
            "_view_count": null,
            "_view_module_version": "1.2.0",
            "_model_module": "@jupyter-widgets/controls"
          }
        },
        "917b9a14e8fd416db7b8c637a746078c": {
          "model_module": "@jupyter-widgets/base",
          "model_name": "LayoutModel",
          "model_module_version": "1.2.0",
          "state": {
            "_view_name": "LayoutView",
            "grid_template_rows": null,
            "right": null,
            "justify_content": null,
            "_view_module": "@jupyter-widgets/base",
            "overflow": null,
            "_model_module_version": "1.2.0",
            "_view_count": null,
            "flex_flow": null,
            "width": null,
            "min_width": null,
            "border": null,
            "align_items": null,
            "bottom": null,
            "_model_module": "@jupyter-widgets/base",
            "top": null,
            "grid_column": null,
            "overflow_y": null,
            "overflow_x": null,
            "grid_auto_flow": null,
            "grid_area": null,
            "grid_template_columns": null,
            "flex": null,
            "_model_name": "LayoutModel",
            "justify_items": null,
            "grid_row": null,
            "max_height": null,
            "align_content": null,
            "visibility": null,
            "align_self": null,
            "height": null,
            "min_height": null,
            "padding": null,
            "grid_auto_rows": null,
            "grid_gap": null,
            "max_width": null,
            "order": null,
            "_view_module_version": "1.2.0",
            "grid_template_areas": null,
            "object_position": null,
            "object_fit": null,
            "grid_auto_columns": null,
            "margin": null,
            "display": null,
            "left": null
          }
        },
        "b13c00f1aeba405399a48d039f0fce5a": {
          "model_module": "@jupyter-widgets/controls",
          "model_name": "HBoxModel",
          "model_module_version": "1.5.0",
          "state": {
            "_view_name": "HBoxView",
            "_dom_classes": [],
            "_model_name": "HBoxModel",
            "_view_module": "@jupyter-widgets/controls",
            "_model_module_version": "1.5.0",
            "_view_count": null,
            "_view_module_version": "1.5.0",
            "box_style": "",
            "layout": "IPY_MODEL_73e11fe0958d44c190855eee6cb34108",
            "_model_module": "@jupyter-widgets/controls",
            "children": [
              "IPY_MODEL_83259e5bf8f64cb58818109c1aabc745",
              "IPY_MODEL_15de052b4b4c41b89e2f21870e86dba6",
              "IPY_MODEL_03c10e31d9ad48199669a6abbf8d48d1"
            ]
          }
        },
        "73e11fe0958d44c190855eee6cb34108": {
          "model_module": "@jupyter-widgets/base",
          "model_name": "LayoutModel",
          "model_module_version": "1.2.0",
          "state": {
            "_view_name": "LayoutView",
            "grid_template_rows": null,
            "right": null,
            "justify_content": null,
            "_view_module": "@jupyter-widgets/base",
            "overflow": null,
            "_model_module_version": "1.2.0",
            "_view_count": null,
            "flex_flow": null,
            "width": null,
            "min_width": null,
            "border": null,
            "align_items": null,
            "bottom": null,
            "_model_module": "@jupyter-widgets/base",
            "top": null,
            "grid_column": null,
            "overflow_y": null,
            "overflow_x": null,
            "grid_auto_flow": null,
            "grid_area": null,
            "grid_template_columns": null,
            "flex": null,
            "_model_name": "LayoutModel",
            "justify_items": null,
            "grid_row": null,
            "max_height": null,
            "align_content": null,
            "visibility": null,
            "align_self": null,
            "height": null,
            "min_height": null,
            "padding": null,
            "grid_auto_rows": null,
            "grid_gap": null,
            "max_width": null,
            "order": null,
            "_view_module_version": "1.2.0",
            "grid_template_areas": null,
            "object_position": null,
            "object_fit": null,
            "grid_auto_columns": null,
            "margin": null,
            "display": null,
            "left": null
          }
        },
        "83259e5bf8f64cb58818109c1aabc745": {
          "model_module": "@jupyter-widgets/controls",
          "model_name": "HTMLModel",
          "model_module_version": "1.5.0",
          "state": {
            "_view_name": "HTMLView",
            "style": "IPY_MODEL_6e90c00a400e49849c5372d934a2ed10",
            "_dom_classes": [],
            "description": "",
            "_model_name": "HTMLModel",
            "placeholder": "​",
            "_view_module": "@jupyter-widgets/controls",
            "_model_module_version": "1.5.0",
            "value": "Downloading: 100%",
            "_view_count": null,
            "_view_module_version": "1.5.0",
            "description_tooltip": null,
            "_model_module": "@jupyter-widgets/controls",
            "layout": "IPY_MODEL_cffa719b7a7e429887415637d26893da"
          }
        },
        "15de052b4b4c41b89e2f21870e86dba6": {
          "model_module": "@jupyter-widgets/controls",
          "model_name": "FloatProgressModel",
          "model_module_version": "1.5.0",
          "state": {
            "_view_name": "ProgressView",
            "style": "IPY_MODEL_eb467c82a2de4f79bdd436dc52a7e82f",
            "_dom_classes": [],
            "description": "",
            "_model_name": "FloatProgressModel",
            "bar_style": "success",
            "max": 466062,
            "_view_module": "@jupyter-widgets/controls",
            "_model_module_version": "1.5.0",
            "value": 466062,
            "_view_count": null,
            "_view_module_version": "1.5.0",
            "orientation": "horizontal",
            "min": 0,
            "description_tooltip": null,
            "_model_module": "@jupyter-widgets/controls",
            "layout": "IPY_MODEL_359a476c94284672b2138e620186869a"
          }
        },
        "03c10e31d9ad48199669a6abbf8d48d1": {
          "model_module": "@jupyter-widgets/controls",
          "model_name": "HTMLModel",
          "model_module_version": "1.5.0",
          "state": {
            "_view_name": "HTMLView",
            "style": "IPY_MODEL_61c8f2a1eaca4a949b7ee7a306954985",
            "_dom_classes": [],
            "description": "",
            "_model_name": "HTMLModel",
            "placeholder": "​",
            "_view_module": "@jupyter-widgets/controls",
            "_model_module_version": "1.5.0",
            "value": " 455k/455k [00:00&lt;00:00, 1.46MB/s]",
            "_view_count": null,
            "_view_module_version": "1.5.0",
            "description_tooltip": null,
            "_model_module": "@jupyter-widgets/controls",
            "layout": "IPY_MODEL_1e07bde5d27c4ad9b1269f0a2712b0c4"
          }
        },
        "6e90c00a400e49849c5372d934a2ed10": {
          "model_module": "@jupyter-widgets/controls",
          "model_name": "DescriptionStyleModel",
          "model_module_version": "1.5.0",
          "state": {
            "_view_name": "StyleView",
            "_model_name": "DescriptionStyleModel",
            "description_width": "",
            "_view_module": "@jupyter-widgets/base",
            "_model_module_version": "1.5.0",
            "_view_count": null,
            "_view_module_version": "1.2.0",
            "_model_module": "@jupyter-widgets/controls"
          }
        },
        "cffa719b7a7e429887415637d26893da": {
          "model_module": "@jupyter-widgets/base",
          "model_name": "LayoutModel",
          "model_module_version": "1.2.0",
          "state": {
            "_view_name": "LayoutView",
            "grid_template_rows": null,
            "right": null,
            "justify_content": null,
            "_view_module": "@jupyter-widgets/base",
            "overflow": null,
            "_model_module_version": "1.2.0",
            "_view_count": null,
            "flex_flow": null,
            "width": null,
            "min_width": null,
            "border": null,
            "align_items": null,
            "bottom": null,
            "_model_module": "@jupyter-widgets/base",
            "top": null,
            "grid_column": null,
            "overflow_y": null,
            "overflow_x": null,
            "grid_auto_flow": null,
            "grid_area": null,
            "grid_template_columns": null,
            "flex": null,
            "_model_name": "LayoutModel",
            "justify_items": null,
            "grid_row": null,
            "max_height": null,
            "align_content": null,
            "visibility": null,
            "align_self": null,
            "height": null,
            "min_height": null,
            "padding": null,
            "grid_auto_rows": null,
            "grid_gap": null,
            "max_width": null,
            "order": null,
            "_view_module_version": "1.2.0",
            "grid_template_areas": null,
            "object_position": null,
            "object_fit": null,
            "grid_auto_columns": null,
            "margin": null,
            "display": null,
            "left": null
          }
        },
        "eb467c82a2de4f79bdd436dc52a7e82f": {
          "model_module": "@jupyter-widgets/controls",
          "model_name": "ProgressStyleModel",
          "model_module_version": "1.5.0",
          "state": {
            "_view_name": "StyleView",
            "_model_name": "ProgressStyleModel",
            "description_width": "",
            "_view_module": "@jupyter-widgets/base",
            "_model_module_version": "1.5.0",
            "_view_count": null,
            "_view_module_version": "1.2.0",
            "bar_color": null,
            "_model_module": "@jupyter-widgets/controls"
          }
        },
        "359a476c94284672b2138e620186869a": {
          "model_module": "@jupyter-widgets/base",
          "model_name": "LayoutModel",
          "model_module_version": "1.2.0",
          "state": {
            "_view_name": "LayoutView",
            "grid_template_rows": null,
            "right": null,
            "justify_content": null,
            "_view_module": "@jupyter-widgets/base",
            "overflow": null,
            "_model_module_version": "1.2.0",
            "_view_count": null,
            "flex_flow": null,
            "width": null,
            "min_width": null,
            "border": null,
            "align_items": null,
            "bottom": null,
            "_model_module": "@jupyter-widgets/base",
            "top": null,
            "grid_column": null,
            "overflow_y": null,
            "overflow_x": null,
            "grid_auto_flow": null,
            "grid_area": null,
            "grid_template_columns": null,
            "flex": null,
            "_model_name": "LayoutModel",
            "justify_items": null,
            "grid_row": null,
            "max_height": null,
            "align_content": null,
            "visibility": null,
            "align_self": null,
            "height": null,
            "min_height": null,
            "padding": null,
            "grid_auto_rows": null,
            "grid_gap": null,
            "max_width": null,
            "order": null,
            "_view_module_version": "1.2.0",
            "grid_template_areas": null,
            "object_position": null,
            "object_fit": null,
            "grid_auto_columns": null,
            "margin": null,
            "display": null,
            "left": null
          }
        },
        "61c8f2a1eaca4a949b7ee7a306954985": {
          "model_module": "@jupyter-widgets/controls",
          "model_name": "DescriptionStyleModel",
          "model_module_version": "1.5.0",
          "state": {
            "_view_name": "StyleView",
            "_model_name": "DescriptionStyleModel",
            "description_width": "",
            "_view_module": "@jupyter-widgets/base",
            "_model_module_version": "1.5.0",
            "_view_count": null,
            "_view_module_version": "1.2.0",
            "_model_module": "@jupyter-widgets/controls"
          }
        },
        "1e07bde5d27c4ad9b1269f0a2712b0c4": {
          "model_module": "@jupyter-widgets/base",
          "model_name": "LayoutModel",
          "model_module_version": "1.2.0",
          "state": {
            "_view_name": "LayoutView",
            "grid_template_rows": null,
            "right": null,
            "justify_content": null,
            "_view_module": "@jupyter-widgets/base",
            "overflow": null,
            "_model_module_version": "1.2.0",
            "_view_count": null,
            "flex_flow": null,
            "width": null,
            "min_width": null,
            "border": null,
            "align_items": null,
            "bottom": null,
            "_model_module": "@jupyter-widgets/base",
            "top": null,
            "grid_column": null,
            "overflow_y": null,
            "overflow_x": null,
            "grid_auto_flow": null,
            "grid_area": null,
            "grid_template_columns": null,
            "flex": null,
            "_model_name": "LayoutModel",
            "justify_items": null,
            "grid_row": null,
            "max_height": null,
            "align_content": null,
            "visibility": null,
            "align_self": null,
            "height": null,
            "min_height": null,
            "padding": null,
            "grid_auto_rows": null,
            "grid_gap": null,
            "max_width": null,
            "order": null,
            "_view_module_version": "1.2.0",
            "grid_template_areas": null,
            "object_position": null,
            "object_fit": null,
            "grid_auto_columns": null,
            "margin": null,
            "display": null,
            "left": null
          }
        },
        "95cb58f1606a44c3ac33399f9db1af03": {
          "model_module": "@jupyter-widgets/controls",
          "model_name": "HBoxModel",
          "model_module_version": "1.5.0",
          "state": {
            "_view_name": "HBoxView",
            "_dom_classes": [],
            "_model_name": "HBoxModel",
            "_view_module": "@jupyter-widgets/controls",
            "_model_module_version": "1.5.0",
            "_view_count": null,
            "_view_module_version": "1.5.0",
            "box_style": "",
            "layout": "IPY_MODEL_834e039ec9ba4f9baf2448a437d6ee6a",
            "_model_module": "@jupyter-widgets/controls",
            "children": [
              "IPY_MODEL_db2359a4f8be4f188ca1a1287b0b356b",
              "IPY_MODEL_903aad5c0cf347708ae385ca5572fef3",
              "IPY_MODEL_8a43a06c81054e7d8f40677b9a684086"
            ]
          }
        },
        "834e039ec9ba4f9baf2448a437d6ee6a": {
          "model_module": "@jupyter-widgets/base",
          "model_name": "LayoutModel",
          "model_module_version": "1.2.0",
          "state": {
            "_view_name": "LayoutView",
            "grid_template_rows": null,
            "right": null,
            "justify_content": null,
            "_view_module": "@jupyter-widgets/base",
            "overflow": null,
            "_model_module_version": "1.2.0",
            "_view_count": null,
            "flex_flow": null,
            "width": null,
            "min_width": null,
            "border": null,
            "align_items": null,
            "bottom": null,
            "_model_module": "@jupyter-widgets/base",
            "top": null,
            "grid_column": null,
            "overflow_y": null,
            "overflow_x": null,
            "grid_auto_flow": null,
            "grid_area": null,
            "grid_template_columns": null,
            "flex": null,
            "_model_name": "LayoutModel",
            "justify_items": null,
            "grid_row": null,
            "max_height": null,
            "align_content": null,
            "visibility": null,
            "align_self": null,
            "height": null,
            "min_height": null,
            "padding": null,
            "grid_auto_rows": null,
            "grid_gap": null,
            "max_width": null,
            "order": null,
            "_view_module_version": "1.2.0",
            "grid_template_areas": null,
            "object_position": null,
            "object_fit": null,
            "grid_auto_columns": null,
            "margin": null,
            "display": null,
            "left": null
          }
        },
        "db2359a4f8be4f188ca1a1287b0b356b": {
          "model_module": "@jupyter-widgets/controls",
          "model_name": "HTMLModel",
          "model_module_version": "1.5.0",
          "state": {
            "_view_name": "HTMLView",
            "style": "IPY_MODEL_2556afc65e3e4cbab43ebbb79e2242b3",
            "_dom_classes": [],
            "description": "",
            "_model_name": "HTMLModel",
            "placeholder": "​",
            "_view_module": "@jupyter-widgets/controls",
            "_model_module_version": "1.5.0",
            "value": "Downloading: 100%",
            "_view_count": null,
            "_view_module_version": "1.5.0",
            "description_tooltip": null,
            "_model_module": "@jupyter-widgets/controls",
            "layout": "IPY_MODEL_edc1805ee969498dba944ed9c3d92083"
          }
        },
        "903aad5c0cf347708ae385ca5572fef3": {
          "model_module": "@jupyter-widgets/controls",
          "model_name": "FloatProgressModel",
          "model_module_version": "1.5.0",
          "state": {
            "_view_name": "ProgressView",
            "style": "IPY_MODEL_440febd9b28b4da3a0bb877fd43cc9a5",
            "_dom_classes": [],
            "description": "",
            "_model_name": "FloatProgressModel",
            "bar_style": "success",
            "max": 570,
            "_view_module": "@jupyter-widgets/controls",
            "_model_module_version": "1.5.0",
            "value": 570,
            "_view_count": null,
            "_view_module_version": "1.5.0",
            "orientation": "horizontal",
            "min": 0,
            "description_tooltip": null,
            "_model_module": "@jupyter-widgets/controls",
            "layout": "IPY_MODEL_4a7a28aaaaba4f5cbe2ca4adf0e88ac1"
          }
        },
        "8a43a06c81054e7d8f40677b9a684086": {
          "model_module": "@jupyter-widgets/controls",
          "model_name": "HTMLModel",
          "model_module_version": "1.5.0",
          "state": {
            "_view_name": "HTMLView",
            "style": "IPY_MODEL_d1ce8c162c16448b9cf18ec081ad709b",
            "_dom_classes": [],
            "description": "",
            "_model_name": "HTMLModel",
            "placeholder": "​",
            "_view_module": "@jupyter-widgets/controls",
            "_model_module_version": "1.5.0",
            "value": " 570/570 [00:00&lt;00:00, 11.4kB/s]",
            "_view_count": null,
            "_view_module_version": "1.5.0",
            "description_tooltip": null,
            "_model_module": "@jupyter-widgets/controls",
            "layout": "IPY_MODEL_bdad3ac0b91b454fadca3a284706fef3"
          }
        },
        "2556afc65e3e4cbab43ebbb79e2242b3": {
          "model_module": "@jupyter-widgets/controls",
          "model_name": "DescriptionStyleModel",
          "model_module_version": "1.5.0",
          "state": {
            "_view_name": "StyleView",
            "_model_name": "DescriptionStyleModel",
            "description_width": "",
            "_view_module": "@jupyter-widgets/base",
            "_model_module_version": "1.5.0",
            "_view_count": null,
            "_view_module_version": "1.2.0",
            "_model_module": "@jupyter-widgets/controls"
          }
        },
        "edc1805ee969498dba944ed9c3d92083": {
          "model_module": "@jupyter-widgets/base",
          "model_name": "LayoutModel",
          "model_module_version": "1.2.0",
          "state": {
            "_view_name": "LayoutView",
            "grid_template_rows": null,
            "right": null,
            "justify_content": null,
            "_view_module": "@jupyter-widgets/base",
            "overflow": null,
            "_model_module_version": "1.2.0",
            "_view_count": null,
            "flex_flow": null,
            "width": null,
            "min_width": null,
            "border": null,
            "align_items": null,
            "bottom": null,
            "_model_module": "@jupyter-widgets/base",
            "top": null,
            "grid_column": null,
            "overflow_y": null,
            "overflow_x": null,
            "grid_auto_flow": null,
            "grid_area": null,
            "grid_template_columns": null,
            "flex": null,
            "_model_name": "LayoutModel",
            "justify_items": null,
            "grid_row": null,
            "max_height": null,
            "align_content": null,
            "visibility": null,
            "align_self": null,
            "height": null,
            "min_height": null,
            "padding": null,
            "grid_auto_rows": null,
            "grid_gap": null,
            "max_width": null,
            "order": null,
            "_view_module_version": "1.2.0",
            "grid_template_areas": null,
            "object_position": null,
            "object_fit": null,
            "grid_auto_columns": null,
            "margin": null,
            "display": null,
            "left": null
          }
        },
        "440febd9b28b4da3a0bb877fd43cc9a5": {
          "model_module": "@jupyter-widgets/controls",
          "model_name": "ProgressStyleModel",
          "model_module_version": "1.5.0",
          "state": {
            "_view_name": "StyleView",
            "_model_name": "ProgressStyleModel",
            "description_width": "",
            "_view_module": "@jupyter-widgets/base",
            "_model_module_version": "1.5.0",
            "_view_count": null,
            "_view_module_version": "1.2.0",
            "bar_color": null,
            "_model_module": "@jupyter-widgets/controls"
          }
        },
        "4a7a28aaaaba4f5cbe2ca4adf0e88ac1": {
          "model_module": "@jupyter-widgets/base",
          "model_name": "LayoutModel",
          "model_module_version": "1.2.0",
          "state": {
            "_view_name": "LayoutView",
            "grid_template_rows": null,
            "right": null,
            "justify_content": null,
            "_view_module": "@jupyter-widgets/base",
            "overflow": null,
            "_model_module_version": "1.2.0",
            "_view_count": null,
            "flex_flow": null,
            "width": null,
            "min_width": null,
            "border": null,
            "align_items": null,
            "bottom": null,
            "_model_module": "@jupyter-widgets/base",
            "top": null,
            "grid_column": null,
            "overflow_y": null,
            "overflow_x": null,
            "grid_auto_flow": null,
            "grid_area": null,
            "grid_template_columns": null,
            "flex": null,
            "_model_name": "LayoutModel",
            "justify_items": null,
            "grid_row": null,
            "max_height": null,
            "align_content": null,
            "visibility": null,
            "align_self": null,
            "height": null,
            "min_height": null,
            "padding": null,
            "grid_auto_rows": null,
            "grid_gap": null,
            "max_width": null,
            "order": null,
            "_view_module_version": "1.2.0",
            "grid_template_areas": null,
            "object_position": null,
            "object_fit": null,
            "grid_auto_columns": null,
            "margin": null,
            "display": null,
            "left": null
          }
        },
        "d1ce8c162c16448b9cf18ec081ad709b": {
          "model_module": "@jupyter-widgets/controls",
          "model_name": "DescriptionStyleModel",
          "model_module_version": "1.5.0",
          "state": {
            "_view_name": "StyleView",
            "_model_name": "DescriptionStyleModel",
            "description_width": "",
            "_view_module": "@jupyter-widgets/base",
            "_model_module_version": "1.5.0",
            "_view_count": null,
            "_view_module_version": "1.2.0",
            "_model_module": "@jupyter-widgets/controls"
          }
        },
        "bdad3ac0b91b454fadca3a284706fef3": {
          "model_module": "@jupyter-widgets/base",
          "model_name": "LayoutModel",
          "model_module_version": "1.2.0",
          "state": {
            "_view_name": "LayoutView",
            "grid_template_rows": null,
            "right": null,
            "justify_content": null,
            "_view_module": "@jupyter-widgets/base",
            "overflow": null,
            "_model_module_version": "1.2.0",
            "_view_count": null,
            "flex_flow": null,
            "width": null,
            "min_width": null,
            "border": null,
            "align_items": null,
            "bottom": null,
            "_model_module": "@jupyter-widgets/base",
            "top": null,
            "grid_column": null,
            "overflow_y": null,
            "overflow_x": null,
            "grid_auto_flow": null,
            "grid_area": null,
            "grid_template_columns": null,
            "flex": null,
            "_model_name": "LayoutModel",
            "justify_items": null,
            "grid_row": null,
            "max_height": null,
            "align_content": null,
            "visibility": null,
            "align_self": null,
            "height": null,
            "min_height": null,
            "padding": null,
            "grid_auto_rows": null,
            "grid_gap": null,
            "max_width": null,
            "order": null,
            "_view_module_version": "1.2.0",
            "grid_template_areas": null,
            "object_position": null,
            "object_fit": null,
            "grid_auto_columns": null,
            "margin": null,
            "display": null,
            "left": null
          }
        }
      }
    }
  },
  "cells": [
    {
      "cell_type": "code",
      "metadata": {
        "colab": {
          "base_uri": "https://localhost:8080/"
        },
        "id": "HIfdEQcv4t1f",
        "outputId": "88744072-22b4-41fb-a062-91f4fff75e06"
      },
      "source": [
        "!pip install transformers"
      ],
      "execution_count": null,
      "outputs": [
        {
          "output_type": "stream",
          "name": "stdout",
          "text": [
            "Collecting transformers\n",
            "  Downloading transformers-4.12.5-py3-none-any.whl (3.1 MB)\n",
            "\u001b[K     |████████████████████████████████| 3.1 MB 5.0 MB/s \n",
            "\u001b[?25hRequirement already satisfied: filelock in /usr/local/lib/python3.7/dist-packages (from transformers) (3.4.0)\n",
            "Collecting sacremoses\n",
            "  Downloading sacremoses-0.0.46-py3-none-any.whl (895 kB)\n",
            "\u001b[K     |████████████████████████████████| 895 kB 52.6 MB/s \n",
            "\u001b[?25hCollecting tokenizers<0.11,>=0.10.1\n",
            "  Downloading tokenizers-0.10.3-cp37-cp37m-manylinux_2_5_x86_64.manylinux1_x86_64.manylinux_2_12_x86_64.manylinux2010_x86_64.whl (3.3 MB)\n",
            "\u001b[K     |████████████████████████████████| 3.3 MB 57.0 MB/s \n",
            "\u001b[?25hRequirement already satisfied: requests in /usr/local/lib/python3.7/dist-packages (from transformers) (2.23.0)\n",
            "Requirement already satisfied: packaging>=20.0 in /usr/local/lib/python3.7/dist-packages (from transformers) (21.3)\n",
            "Collecting huggingface-hub<1.0,>=0.1.0\n",
            "  Downloading huggingface_hub-0.1.2-py3-none-any.whl (59 kB)\n",
            "\u001b[K     |████████████████████████████████| 59 kB 5.5 MB/s \n",
            "\u001b[?25hCollecting pyyaml>=5.1\n",
            "  Downloading PyYAML-6.0-cp37-cp37m-manylinux_2_5_x86_64.manylinux1_x86_64.manylinux_2_12_x86_64.manylinux2010_x86_64.whl (596 kB)\n",
            "\u001b[K     |████████████████████████████████| 596 kB 56.6 MB/s \n",
            "\u001b[?25hRequirement already satisfied: numpy>=1.17 in /usr/local/lib/python3.7/dist-packages (from transformers) (1.19.5)\n",
            "Requirement already satisfied: regex!=2019.12.17 in /usr/local/lib/python3.7/dist-packages (from transformers) (2019.12.20)\n",
            "Requirement already satisfied: tqdm>=4.27 in /usr/local/lib/python3.7/dist-packages (from transformers) (4.62.3)\n",
            "Requirement already satisfied: importlib-metadata in /usr/local/lib/python3.7/dist-packages (from transformers) (4.8.2)\n",
            "Requirement already satisfied: typing-extensions>=3.7.4.3 in /usr/local/lib/python3.7/dist-packages (from huggingface-hub<1.0,>=0.1.0->transformers) (3.10.0.2)\n",
            "Requirement already satisfied: pyparsing!=3.0.5,>=2.0.2 in /usr/local/lib/python3.7/dist-packages (from packaging>=20.0->transformers) (3.0.6)\n",
            "Requirement already satisfied: zipp>=0.5 in /usr/local/lib/python3.7/dist-packages (from importlib-metadata->transformers) (3.6.0)\n",
            "Requirement already satisfied: idna<3,>=2.5 in /usr/local/lib/python3.7/dist-packages (from requests->transformers) (2.10)\n",
            "Requirement already satisfied: chardet<4,>=3.0.2 in /usr/local/lib/python3.7/dist-packages (from requests->transformers) (3.0.4)\n",
            "Requirement already satisfied: certifi>=2017.4.17 in /usr/local/lib/python3.7/dist-packages (from requests->transformers) (2021.10.8)\n",
            "Requirement already satisfied: urllib3!=1.25.0,!=1.25.1,<1.26,>=1.21.1 in /usr/local/lib/python3.7/dist-packages (from requests->transformers) (1.24.3)\n",
            "Requirement already satisfied: six in /usr/local/lib/python3.7/dist-packages (from sacremoses->transformers) (1.15.0)\n",
            "Requirement already satisfied: click in /usr/local/lib/python3.7/dist-packages (from sacremoses->transformers) (7.1.2)\n",
            "Requirement already satisfied: joblib in /usr/local/lib/python3.7/dist-packages (from sacremoses->transformers) (1.1.0)\n",
            "Installing collected packages: pyyaml, tokenizers, sacremoses, huggingface-hub, transformers\n",
            "  Attempting uninstall: pyyaml\n",
            "    Found existing installation: PyYAML 3.13\n",
            "    Uninstalling PyYAML-3.13:\n",
            "      Successfully uninstalled PyYAML-3.13\n",
            "Successfully installed huggingface-hub-0.1.2 pyyaml-6.0 sacremoses-0.0.46 tokenizers-0.10.3 transformers-4.12.5\n"
          ]
        }
      ]
    },
    {
      "cell_type": "code",
      "metadata": {
        "colab": {
          "base_uri": "https://localhost:8080/",
          "height": 145,
          "referenced_widgets": [
            "4c3fcee595494c1d9ada4670746101c9",
            "74a87160e550475e9f7d4cec657bc6ed",
            "d9b9afaede6341c89b1a7895050236f7",
            "68fb1ffd1ae1423b83d4dbc284556066",
            "b28adddef4bb4c94a355e1bc5b8538db",
            "7e5ec0599f524412b1a7747eae41e1e7",
            "601f4439515a44479a0485fb544589fa",
            "02ea2d5347e24e9aa55c1b8d4f1e9b9e",
            "e17f5a9c56a74c88836027b51c464ed5",
            "a67242ec1a2249b9bff92275063af159",
            "81d5da92079546ee84f91654a0989794",
            "c08c79b09f0d49c2aae25a7b55998ce8",
            "8426e2898187469ea2ad6c6fbc02a783",
            "a77f3aa44563424081cf16a48e580022",
            "22382415bfef45689b990096d83edc9e",
            "1d65e9265c6743a4960011f20910734c",
            "6cbf244d50cc43d286121bbe10541ab4",
            "44a605cfd9de45bdbe978f3503049dfc",
            "49fbb1ede991479dad92da6aa478b163",
            "ca31a7a43ee64cb2ac87e4202a545de0",
            "337748baf8984d179a08cf3008871216",
            "917b9a14e8fd416db7b8c637a746078c",
            "b13c00f1aeba405399a48d039f0fce5a",
            "73e11fe0958d44c190855eee6cb34108",
            "83259e5bf8f64cb58818109c1aabc745",
            "15de052b4b4c41b89e2f21870e86dba6",
            "03c10e31d9ad48199669a6abbf8d48d1",
            "6e90c00a400e49849c5372d934a2ed10",
            "cffa719b7a7e429887415637d26893da",
            "eb467c82a2de4f79bdd436dc52a7e82f",
            "359a476c94284672b2138e620186869a",
            "61c8f2a1eaca4a949b7ee7a306954985",
            "1e07bde5d27c4ad9b1269f0a2712b0c4",
            "95cb58f1606a44c3ac33399f9db1af03",
            "834e039ec9ba4f9baf2448a437d6ee6a",
            "db2359a4f8be4f188ca1a1287b0b356b",
            "903aad5c0cf347708ae385ca5572fef3",
            "8a43a06c81054e7d8f40677b9a684086",
            "2556afc65e3e4cbab43ebbb79e2242b3",
            "edc1805ee969498dba944ed9c3d92083",
            "440febd9b28b4da3a0bb877fd43cc9a5",
            "4a7a28aaaaba4f5cbe2ca4adf0e88ac1",
            "d1ce8c162c16448b9cf18ec081ad709b",
            "bdad3ac0b91b454fadca3a284706fef3"
          ]
        },
        "id": "E3otv0st48FA",
        "outputId": "007fa499-a37a-4d78-d15e-3e73c42cd757"
      },
      "source": [
        "import torch\n",
        "from transformers import BertTokenizer, BertModel\n",
        "\n",
        "# OPTIONAL: if you want to have more information on what's happening, activate the logger as follows\n",
        "import logging\n",
        "#logging.basicConfig(level=logging.INFO)\n",
        "\n",
        "import matplotlib.pyplot as plt\n",
        "% matplotlib inline\n",
        "\n",
        "# Load pre-trained model tokenizer (vocabulary)\n",
        "tokenizer = BertTokenizer.from_pretrained('bert-base-uncased')\n"
      ],
      "execution_count": null,
      "outputs": [
        {
          "output_type": "display_data",
          "data": {
            "application/vnd.jupyter.widget-view+json": {
              "model_id": "4c3fcee595494c1d9ada4670746101c9",
              "version_minor": 0,
              "version_major": 2
            },
            "text/plain": [
              "Downloading:   0%|          | 0.00/226k [00:00<?, ?B/s]"
            ]
          },
          "metadata": {}
        },
        {
          "output_type": "display_data",
          "data": {
            "application/vnd.jupyter.widget-view+json": {
              "model_id": "c08c79b09f0d49c2aae25a7b55998ce8",
              "version_minor": 0,
              "version_major": 2
            },
            "text/plain": [
              "Downloading:   0%|          | 0.00/28.0 [00:00<?, ?B/s]"
            ]
          },
          "metadata": {}
        },
        {
          "output_type": "display_data",
          "data": {
            "application/vnd.jupyter.widget-view+json": {
              "model_id": "b13c00f1aeba405399a48d039f0fce5a",
              "version_minor": 0,
              "version_major": 2
            },
            "text/plain": [
              "Downloading:   0%|          | 0.00/455k [00:00<?, ?B/s]"
            ]
          },
          "metadata": {}
        },
        {
          "output_type": "display_data",
          "data": {
            "application/vnd.jupyter.widget-view+json": {
              "model_id": "95cb58f1606a44c3ac33399f9db1af03",
              "version_minor": 0,
              "version_major": 2
            },
            "text/plain": [
              "Downloading:   0%|          | 0.00/570 [00:00<?, ?B/s]"
            ]
          },
          "metadata": {}
        }
      ]
    },
    {
      "cell_type": "code",
      "metadata": {
        "colab": {
          "base_uri": "https://localhost:8080/"
        },
        "id": "hEtc0Puf7kB4",
        "outputId": "18b59368-7ee1-44b4-c040-0c48dd531fd3"
      },
      "source": [
        "from google.colab import drive\n",
        "drive.mount('/content/drive')"
      ],
      "execution_count": null,
      "outputs": [
        {
          "output_type": "stream",
          "name": "stdout",
          "text": [
            "Mounted at /content/drive\n"
          ]
        }
      ]
    },
    {
      "cell_type": "code",
      "metadata": {
        "id": "Oww5CCCW7p44"
      },
      "source": [
        "sents = []\n",
        "\n",
        "with open(\"/content/drive/MyDrive/event_data_word/test.sent\", \"r\") as f:\n",
        "  for line in f:\n",
        "    sents.append(line)"
      ],
      "execution_count": null,
      "outputs": []
    },
    {
      "cell_type": "code",
      "metadata": {
        "colab": {
          "base_uri": "https://localhost:8080/"
        },
        "id": "cYNzFyV57uku",
        "outputId": "aff13dd9-5198-4849-c202-61b44320cabf"
      },
      "source": [
        "len(sents)"
      ],
      "execution_count": null,
      "outputs": [
        {
          "output_type": "execute_result",
          "data": {
            "text/plain": [
              "292"
            ]
          },
          "metadata": {},
          "execution_count": 82
        }
      ]
    },
    {
      "cell_type": "code",
      "metadata": {
        "id": "UnbpPXHJLOgk"
      },
      "source": [
        "sentence1=sents[:1]\n",
        "marked_text=\"[CLS] \" + sentence1 + \" [SEP]\"\n",
        "tokenized_text = tokenizer.tokenize(marked_text)\n",
        "indexed_tokens = tokenizer.convert_tokens_to_ids(tokenized_text)\n",
        "tokens_tensor = torch.tensor([indexed_tokens])\n",
        "# Run the text through BERT, and collect all of the hidden states produced\n",
        "# from all 12 layers. \n",
        "with torch.no_grad():\n",
        "\n",
        "    outputs = model(tokens_tensor)\n",
        "\n",
        "    # Evaluating the model will return a different number of objects based on \n",
        "    # how it's  configured in the `from_pretrained` call earlier. In this case, \n",
        "    # becase we set `output_hidden_states = True`, the third item will be the \n",
        "    # hidden states from all layers. See the documentation for more details:\n",
        "    # https://huggingface.co/transformers/model_doc/bert.html#bertmodel\n",
        "    hidden_states = outputs[2]\n",
        "\n",
        "token_embeddings = torch.stack(hidden_states, dim=0)\n",
        "token_embeddings = torch.squeeze(token_embeddings, dim=1)\n",
        "token_embeddings = token_embeddings.permute(1,0,2)\n",
        "\n",
        "# Stores the token vectors, with shape [22 x 768]\n",
        "token_vecs_sum = []\n",
        "\n",
        "# `token_embeddings` is a [22 x 12 x 768] tensor.\n",
        "\n",
        "# For each token in the sentence...\n",
        "for token in token_embeddings:\n",
        "\n",
        "    # `token` is a [12 x 768] tensor\n",
        "\n",
        "    # Sum the vectors from the last four layers.\n",
        "    sum_vec = torch.sum(token[-4:], dim=0)\n",
        "    \n",
        "    # Use `sum_vec` to represent `token`.\n",
        "    token_vecs_sum.append(sum_vec)"
      ],
      "execution_count": null,
      "outputs": []
    },
    {
      "cell_type": "code",
      "metadata": {
        "id": "qHQxrj_-7wss"
      },
      "source": [
        "sentence1=sents[:1]"
      ],
      "execution_count": null,
      "outputs": []
    },
    {
      "cell_type": "code",
      "metadata": {
        "colab": {
          "base_uri": "https://localhost:8080/",
          "height": 34
        },
        "id": "rvCD7Je19PLC",
        "outputId": "df52333e-d34b-455a-c786-5fe84cb0ea9b"
      },
      "source": [
        "sentence1"
      ],
      "execution_count": null,
      "outputs": [
        {
          "output_type": "execute_result",
          "data": {
            "application/vnd.google.colaboratory.intrinsic+json": {
              "type": "string"
            },
            "text/plain": [
              "\"British Chancellor of the Exchequer Gordon Brown on Tuesday named the current head of the country 's energy regulator as the new chairman of finance watchdog the Financial Services Authority -LRB- FSA -RRB- .\\n\""
            ]
          },
          "metadata": {},
          "execution_count": 45
        }
      ]
    },
    {
      "cell_type": "code",
      "metadata": {
        "id": "GRnkmYwu9jdG"
      },
      "source": [
        "marked_text=\"[CLS] \" + sentence1 + \" [SEP]\""
      ],
      "execution_count": null,
      "outputs": []
    },
    {
      "cell_type": "code",
      "metadata": {
        "id": "WQ6yPOJ59kuW"
      },
      "source": [
        "tokenized_text = tokenizer.tokenize(marked_text)"
      ],
      "execution_count": null,
      "outputs": []
    },
    {
      "cell_type": "code",
      "metadata": {
        "colab": {
          "base_uri": "https://localhost:8080/"
        },
        "id": "tzCiY9849nM-",
        "outputId": "89f69f6b-08e2-49a7-d74d-1e9f4af16748"
      },
      "source": [
        "print(tokenized_text)"
      ],
      "execution_count": null,
      "outputs": [
        {
          "output_type": "stream",
          "name": "stdout",
          "text": [
            "['[CLS]', 'british', 'chancellor', 'of', 'the', 'exchequer', 'gordon', 'brown', 'on', 'tuesday', 'named', 'the', 'current', 'head', 'of', 'the', 'country', \"'\", 's', 'energy', 'regulator', 'as', 'the', 'new', 'chairman', 'of', 'finance', 'watch', '##dog', 'the', 'financial', 'services', 'authority', '-', 'l', '##rb', '-', 'f', '##sa', '-', 'rr', '##b', '-', '.', '[SEP]']\n"
          ]
        }
      ]
    },
    {
      "cell_type": "code",
      "metadata": {
        "id": "zFsXlX5G9yC7"
      },
      "source": [
        "#tokenized_text=list(set(tokenized_text))"
      ],
      "execution_count": null,
      "outputs": []
    },
    {
      "cell_type": "code",
      "metadata": {
        "colab": {
          "base_uri": "https://localhost:8080/"
        },
        "id": "ykhSbpxl924s",
        "outputId": "2c152c7d-ec71-4b93-df5f-2b93ced511a5"
      },
      "source": [
        "len(tokenized_text) #total words"
      ],
      "execution_count": null,
      "outputs": [
        {
          "output_type": "execute_result",
          "data": {
            "text/plain": [
              "45"
            ]
          },
          "metadata": {},
          "execution_count": 55
        }
      ]
    },
    {
      "cell_type": "code",
      "metadata": {
        "id": "Lgv5pb3_49gs"
      },
      "source": [
        "#text = \"After stealing money from the bank vault, the bank robber was seen \" \\\n",
        "#       \"fishing on the Mississippi river bank.\"\n",
        "\n",
        "# Add the special tokens.\n",
        "#marked_text = \"[CLS] \" + text + \" [SEP]\"\n",
        "\n",
        "# Split the sentence into tokens.\n",
        "#tokenized_text = tokenizer.tokenize(marked_text)\n",
        "\n",
        "# Map the token strings to their vocabulary indeces.\n",
        "indexed_tokens = tokenizer.convert_tokens_to_ids(tokenized_text)\n",
        "\n",
        "# Display the words with their indeces.\n",
        "for tup in zip(tokenized_text, indexed_tokens):\n",
        "    print('{:<12} {:>6,}'.format(tup[0], tup[1]))"
      ],
      "execution_count": null,
      "outputs": []
    },
    {
      "cell_type": "code",
      "metadata": {
        "colab": {
          "base_uri": "https://localhost:8080/"
        },
        "id": "TrJnajtn51la",
        "outputId": "de344534-5bd8-4187-95f5-3273b8750672"
      },
      "source": [
        "len(tokenized_text)"
      ],
      "execution_count": null,
      "outputs": [
        {
          "output_type": "execute_result",
          "data": {
            "text/plain": [
              "45"
            ]
          },
          "metadata": {},
          "execution_count": 57
        }
      ]
    },
    {
      "cell_type": "code",
      "metadata": {
        "colab": {
          "base_uri": "https://localhost:8080/"
        },
        "id": "9GmZhatn6Drt",
        "outputId": "276a94d1-d95c-4958-b12e-11379ba2ed89"
      },
      "source": [
        "segments_ids = [1] * len(tokenized_text) #to denote which sentence it is a part of.\n",
        "\n",
        "print (segments_ids)"
      ],
      "execution_count": null,
      "outputs": [
        {
          "output_type": "stream",
          "name": "stdout",
          "text": [
            "[1, 1, 1, 1, 1, 1, 1, 1, 1, 1, 1, 1, 1, 1, 1, 1, 1, 1, 1, 1, 1, 1, 1, 1, 1, 1, 1, 1, 1, 1, 1, 1, 1, 1, 1, 1, 1, 1, 1, 1, 1, 1, 1, 1, 1]\n"
          ]
        }
      ]
    },
    {
      "cell_type": "code",
      "metadata": {
        "id": "Q3gKxwJt6HSn"
      },
      "source": [
        "tokens_tensor = torch.tensor([indexed_tokens])\n",
        "segments_tensors = torch.tensor([segments_ids])"
      ],
      "execution_count": null,
      "outputs": []
    },
    {
      "cell_type": "code",
      "metadata": {
        "id": "MZdOm4kW-Ssg"
      },
      "source": [
        "segments_tensors = torch.tensor([segments_ids])"
      ],
      "execution_count": null,
      "outputs": []
    },
    {
      "cell_type": "code",
      "metadata": {
        "id": "Gefc2zY86QXA"
      },
      "source": [
        "# Load pre-trained model (weights)\n",
        "model = BertModel.from_pretrained('bert-base-uncased',\n",
        "                                  output_hidden_states = True, # Whether the model returns all hidden-states.\n",
        "                                  )\n",
        "\n",
        "# Put the model in \"evaluation\" mode, meaning feed-forward operation.\n",
        "model.eval()"
      ],
      "execution_count": null,
      "outputs": []
    },
    {
      "cell_type": "code",
      "metadata": {
        "id": "6E7oFAQb6igm"
      },
      "source": [
        "# Run the text through BERT, and collect all of the hidden states produced\n",
        "# from all 12 layers. \n",
        "with torch.no_grad():\n",
        "\n",
        "    outputs = model(tokens_tensor)\n",
        "\n",
        "    # Evaluating the model will return a different number of objects based on \n",
        "    # how it's  configured in the `from_pretrained` call earlier. In this case, \n",
        "    # becase we set `output_hidden_states = True`, the third item will be the \n",
        "    # hidden states from all layers. See the documentation for more details:\n",
        "    # https://huggingface.co/transformers/model_doc/bert.html#bertmodel\n",
        "    hidden_states = outputs[2]"
      ],
      "execution_count": null,
      "outputs": []
    },
    {
      "cell_type": "code",
      "metadata": {
        "colab": {
          "base_uri": "https://localhost:8080/"
        },
        "id": "hVsDX2EA6qJ3",
        "outputId": "13469f5c-317d-4b8f-b64d-53f39392156a"
      },
      "source": [
        "print (\"Number of layers:\", len(hidden_states), \"  (initial embeddings + 12 BERT layers)\")\n",
        "layer_i = 0\n",
        "\n",
        "print (\"Number of batches:\", len(hidden_states[layer_i])) #number of sentences\n",
        "batch_i = 0\n",
        "\n",
        "print (\"Number of tokens:\", len(hidden_states[layer_i][batch_i])) #number of words\n",
        "token_i = 0\n",
        "\n",
        "print (\"Number of hidden units:\", len(hidden_states[layer_i][batch_i][token_i])) "
      ],
      "execution_count": null,
      "outputs": [
        {
          "output_type": "stream",
          "name": "stdout",
          "text": [
            "Number of layers: 13   (initial embeddings + 12 BERT layers)\n",
            "Number of batches: 1\n",
            "Number of tokens: 45\n",
            "Number of hidden units: 768\n"
          ]
        }
      ]
    },
    {
      "cell_type": "code",
      "metadata": {
        "colab": {
          "base_uri": "https://localhost:8080/"
        },
        "id": "aLpgALcF62FE",
        "outputId": "daa7aeaf-8aa3-4f2b-96f8-79fff9632184"
      },
      "source": [
        "# `hidden_states` is a Python list.\n",
        "print('      Type of hidden_states: ', type(hidden_states))\n",
        "\n",
        "# Each layer in the list is a torch tensor.\n",
        "print('Tensor shape for each layer: ', hidden_states[0].size())"
      ],
      "execution_count": null,
      "outputs": [
        {
          "output_type": "stream",
          "name": "stdout",
          "text": [
            "      Type of hidden_states:  <class 'tuple'>\n",
            "Tensor shape for each layer:  torch.Size([1, 45, 768])\n"
          ]
        }
      ]
    },
    {
      "cell_type": "code",
      "metadata": {
        "colab": {
          "base_uri": "https://localhost:8080/"
        },
        "id": "-7Vozr847DnE",
        "outputId": "c1dc34de-417b-492c-9f3b-d1bc31f99670"
      },
      "source": [
        "# Concatenate the tensors for all layers. We use `stack` here to\n",
        "# create a new dimension in the tensor.\n",
        "token_embeddings = torch.stack(hidden_states, dim=0)\n",
        "\n",
        "token_embeddings.size()"
      ],
      "execution_count": null,
      "outputs": [
        {
          "output_type": "execute_result",
          "data": {
            "text/plain": [
              "torch.Size([13, 1, 45, 768])"
            ]
          },
          "metadata": {},
          "execution_count": 65
        }
      ]
    },
    {
      "cell_type": "code",
      "metadata": {
        "colab": {
          "base_uri": "https://localhost:8080/"
        },
        "id": "8VccDkrF7LUb",
        "outputId": "9d82214a-cac9-4694-ab64-8e0d2d1dd0c1"
      },
      "source": [
        "# Remove dimension 1, the \"batches\".\n",
        "token_embeddings = torch.squeeze(token_embeddings, dim=1)\n",
        "\n",
        "token_embeddings.size()"
      ],
      "execution_count": null,
      "outputs": [
        {
          "output_type": "execute_result",
          "data": {
            "text/plain": [
              "torch.Size([13, 45, 768])"
            ]
          },
          "metadata": {},
          "execution_count": 66
        }
      ]
    },
    {
      "cell_type": "code",
      "metadata": {
        "colab": {
          "base_uri": "https://localhost:8080/"
        },
        "id": "bss1SIZL7T66",
        "outputId": "40004583-c9dd-447d-fc04-d47911c406b8"
      },
      "source": [
        "# Swap dimensions 0 and 1.\n",
        "token_embeddings = token_embeddings.permute(1,0,2)\n",
        "\n",
        "token_embeddings.size()"
      ],
      "execution_count": null,
      "outputs": [
        {
          "output_type": "execute_result",
          "data": {
            "text/plain": [
              "torch.Size([45, 13, 768])"
            ]
          },
          "metadata": {},
          "execution_count": 67
        }
      ]
    },
    {
      "cell_type": "code",
      "metadata": {
        "colab": {
          "base_uri": "https://localhost:8080/"
        },
        "id": "7UsWB0UF7cvf",
        "outputId": "14ab2af0-31f0-41eb-bc3e-1b5b255605ca"
      },
      "source": [
        "# Stores the token vectors, with shape [22 x 768]\n",
        "token_vecs_sum = []\n",
        "\n",
        "# `token_embeddings` is a [22 x 12 x 768] tensor.\n",
        "\n",
        "# For each token in the sentence...\n",
        "for token in token_embeddings:\n",
        "\n",
        "    # `token` is a [12 x 768] tensor\n",
        "\n",
        "    # Sum the vectors from the last four layers.\n",
        "    sum_vec = torch.sum(token[-4:], dim=0)\n",
        "    \n",
        "    # Use `sum_vec` to represent `token`.\n",
        "    token_vecs_sum.append(sum_vec)\n",
        "\n",
        "print ('Shape is: %d x %d' % (len(token_vecs_sum), len(token_vecs_sum[0])))"
      ],
      "execution_count": null,
      "outputs": [
        {
          "output_type": "stream",
          "name": "stdout",
          "text": [
            "Shape is: 45 x 768\n"
          ]
        }
      ]
    },
    {
      "cell_type": "code",
      "metadata": {
        "colab": {
          "base_uri": "https://localhost:8080/"
        },
        "id": "SR5fR4oLBci-",
        "outputId": "b264d3f0-5654-4d9e-a94e-5e3a43b78958"
      },
      "source": [
        "print(len(token_vecs_sum)) #768 dimensioned embedding for each word in the input sentence. (45 words)"
      ],
      "execution_count": null,
      "outputs": [
        {
          "output_type": "stream",
          "name": "stdout",
          "text": [
            "45\n"
          ]
        }
      ]
    },
    {
      "cell_type": "code",
      "metadata": {
        "colab": {
          "base_uri": "https://localhost:8080/"
        },
        "id": "3N5KFwYxNRE5",
        "outputId": "ca52a0a2-f4b4-49a1-f35f-d76a290d9901"
      },
      "source": [
        "len(tokenized_text)"
      ],
      "execution_count": null,
      "outputs": [
        {
          "output_type": "execute_result",
          "data": {
            "text/plain": [
              "45"
            ]
          },
          "metadata": {},
          "execution_count": 84
        }
      ]
    },
    {
      "cell_type": "code",
      "metadata": {
        "id": "rvwxtcR7E9n6"
      },
      "source": [
        "global_embeddings = token_vecs_sum\n",
        "global_tokens = tokenized_text"
      ],
      "execution_count": null,
      "outputs": []
    },
    {
      "cell_type": "code",
      "metadata": {
        "colab": {
          "base_uri": "https://localhost:8080/"
        },
        "id": "RY9DpfDhNaMG",
        "outputId": "f9ac7690-ec9b-4807-91c2-8b4c8f4736d7"
      },
      "source": [
        "len(sents)"
      ],
      "execution_count": null,
      "outputs": [
        {
          "output_type": "execute_result",
          "data": {
            "text/plain": [
              "292"
            ]
          },
          "metadata": {},
          "execution_count": 87
        }
      ]
    },
    {
      "cell_type": "code",
      "metadata": {
        "id": "TPB_YJu_Ps7b"
      },
      "source": [
        "global_embeddings=[]\n",
        "global_tokens=[]"
      ],
      "execution_count": null,
      "outputs": []
    },
    {
      "cell_type": "markdown",
      "metadata": {
        "id": "1mR45y6sj4D2"
      },
      "source": [
        "## Extracting word embeddings from test.sent"
      ]
    },
    {
      "cell_type": "code",
      "metadata": {
        "colab": {
          "base_uri": "https://localhost:8080/"
        },
        "id": "1w3CMdrCOIEo",
        "outputId": "adcb5559-a40c-4e29-c1ab-369636de038e"
      },
      "source": [
        "for i in range(0,len(sents)):\n",
        "  sentence1=sents[i]\n",
        "  marked_text=\"[CLS] \" + sentence1 + \" [SEP]\"\n",
        "  tokenized_text = tokenizer.tokenize(marked_text)\n",
        "  indexed_tokens = tokenizer.convert_tokens_to_ids(tokenized_text)\n",
        "  tokens_tensor = torch.tensor([indexed_tokens])\n",
        "  # Run the text through BERT, and collect all of the hidden states produced\n",
        "  # from all 12 layers. \n",
        "  with torch.no_grad():\n",
        "    outputs = model(tokens_tensor)\n",
        "    # Evaluating the model will return a different number of objects based on \n",
        "    # how it's  configured in the `from_pretrained` call earlier. In this case, \n",
        "    # becase we set `output_hidden_states = True`, the third item will be the \n",
        "    # hidden states from all layers. See the documentation for more details:\n",
        "    # https://huggingface.co/transformers/model_doc/bert.html#bertmodel\n",
        "    hidden_states = outputs[2]\n",
        "\n",
        "  token_embeddings = torch.stack(hidden_states, dim=0)\n",
        "  token_embeddings = torch.squeeze(token_embeddings, dim=1)\n",
        "  token_embeddings = token_embeddings.permute(1,0,2)\n",
        "\n",
        "  # Stores the token vectors, with shape [22 x 768]\n",
        "  token_vecs_sum = []\n",
        "\n",
        "  # `token_embeddings` is a [22 x 12 x 768] tensor.\n",
        "\n",
        "  # For each token in the sentence...\n",
        "  for token in token_embeddings:\n",
        "\n",
        "    # `token` is a [12 x 768] tensor\n",
        "\n",
        "    # Sum the vectors from the last four layers.\n",
        "    sum_vec = torch.sum(token[-4:], dim=0)\n",
        "    \n",
        "    # Use `sum_vec` to represent `token`.\n",
        "    token_vecs_sum.append(sum_vec)\n",
        "\n",
        "  print(i, \" loop done\")\n",
        "  global_embeddings.append(token_vecs_sum)\n",
        "  global_tokens.append(tokenized_text)\n"
      ],
      "execution_count": null,
      "outputs": [
        {
          "output_type": "stream",
          "name": "stdout",
          "text": [
            "0  loop done\n",
            "1  loop done\n",
            "2  loop done\n",
            "3  loop done\n",
            "4  loop done\n",
            "5  loop done\n",
            "6  loop done\n",
            "7  loop done\n",
            "8  loop done\n",
            "9  loop done\n",
            "10  loop done\n",
            "11  loop done\n",
            "12  loop done\n",
            "13  loop done\n",
            "14  loop done\n",
            "15  loop done\n",
            "16  loop done\n",
            "17  loop done\n",
            "18  loop done\n",
            "19  loop done\n",
            "20  loop done\n",
            "21  loop done\n",
            "22  loop done\n",
            "23  loop done\n",
            "24  loop done\n",
            "25  loop done\n",
            "26  loop done\n",
            "27  loop done\n",
            "28  loop done\n",
            "29  loop done\n",
            "30  loop done\n",
            "31  loop done\n",
            "32  loop done\n",
            "33  loop done\n",
            "34  loop done\n",
            "35  loop done\n",
            "36  loop done\n",
            "37  loop done\n",
            "38  loop done\n",
            "39  loop done\n",
            "40  loop done\n",
            "41  loop done\n",
            "42  loop done\n",
            "43  loop done\n",
            "44  loop done\n",
            "45  loop done\n",
            "46  loop done\n",
            "47  loop done\n",
            "48  loop done\n",
            "49  loop done\n",
            "50  loop done\n",
            "51  loop done\n",
            "52  loop done\n",
            "53  loop done\n",
            "54  loop done\n",
            "55  loop done\n",
            "56  loop done\n",
            "57  loop done\n",
            "58  loop done\n",
            "59  loop done\n",
            "60  loop done\n",
            "61  loop done\n",
            "62  loop done\n",
            "63  loop done\n",
            "64  loop done\n",
            "65  loop done\n",
            "66  loop done\n",
            "67  loop done\n",
            "68  loop done\n",
            "69  loop done\n",
            "70  loop done\n",
            "71  loop done\n",
            "72  loop done\n",
            "73  loop done\n",
            "74  loop done\n",
            "75  loop done\n",
            "76  loop done\n",
            "77  loop done\n",
            "78  loop done\n",
            "79  loop done\n",
            "80  loop done\n",
            "81  loop done\n",
            "82  loop done\n",
            "83  loop done\n",
            "84  loop done\n",
            "85  loop done\n",
            "86  loop done\n",
            "87  loop done\n",
            "88  loop done\n",
            "89  loop done\n",
            "90  loop done\n",
            "91  loop done\n",
            "92  loop done\n",
            "93  loop done\n",
            "94  loop done\n",
            "95  loop done\n",
            "96  loop done\n",
            "97  loop done\n",
            "98  loop done\n",
            "99  loop done\n",
            "100  loop done\n",
            "101  loop done\n",
            "102  loop done\n",
            "103  loop done\n",
            "104  loop done\n",
            "105  loop done\n",
            "106  loop done\n",
            "107  loop done\n",
            "108  loop done\n",
            "109  loop done\n",
            "110  loop done\n",
            "111  loop done\n",
            "112  loop done\n",
            "113  loop done\n",
            "114  loop done\n",
            "115  loop done\n",
            "116  loop done\n",
            "117  loop done\n",
            "118  loop done\n",
            "119  loop done\n",
            "120  loop done\n",
            "121  loop done\n",
            "122  loop done\n",
            "123  loop done\n",
            "124  loop done\n",
            "125  loop done\n",
            "126  loop done\n",
            "127  loop done\n",
            "128  loop done\n",
            "129  loop done\n",
            "130  loop done\n",
            "131  loop done\n",
            "132  loop done\n",
            "133  loop done\n",
            "134  loop done\n",
            "135  loop done\n",
            "136  loop done\n",
            "137  loop done\n",
            "138  loop done\n",
            "139  loop done\n",
            "140  loop done\n",
            "141  loop done\n",
            "142  loop done\n",
            "143  loop done\n",
            "144  loop done\n",
            "145  loop done\n",
            "146  loop done\n",
            "147  loop done\n",
            "148  loop done\n",
            "149  loop done\n",
            "150  loop done\n",
            "151  loop done\n",
            "152  loop done\n",
            "153  loop done\n",
            "154  loop done\n",
            "155  loop done\n",
            "156  loop done\n",
            "157  loop done\n",
            "158  loop done\n",
            "159  loop done\n",
            "160  loop done\n",
            "161  loop done\n",
            "162  loop done\n",
            "163  loop done\n",
            "164  loop done\n",
            "165  loop done\n",
            "166  loop done\n",
            "167  loop done\n",
            "168  loop done\n",
            "169  loop done\n",
            "170  loop done\n",
            "171  loop done\n",
            "172  loop done\n",
            "173  loop done\n",
            "174  loop done\n",
            "175  loop done\n",
            "176  loop done\n",
            "177  loop done\n",
            "178  loop done\n",
            "179  loop done\n",
            "180  loop done\n",
            "181  loop done\n",
            "182  loop done\n",
            "183  loop done\n",
            "184  loop done\n",
            "185  loop done\n",
            "186  loop done\n",
            "187  loop done\n",
            "188  loop done\n",
            "189  loop done\n",
            "190  loop done\n",
            "191  loop done\n",
            "192  loop done\n",
            "193  loop done\n",
            "194  loop done\n",
            "195  loop done\n",
            "196  loop done\n",
            "197  loop done\n",
            "198  loop done\n",
            "199  loop done\n",
            "200  loop done\n",
            "201  loop done\n",
            "202  loop done\n",
            "203  loop done\n",
            "204  loop done\n",
            "205  loop done\n",
            "206  loop done\n",
            "207  loop done\n",
            "208  loop done\n",
            "209  loop done\n",
            "210  loop done\n",
            "211  loop done\n",
            "212  loop done\n",
            "213  loop done\n",
            "214  loop done\n",
            "215  loop done\n",
            "216  loop done\n",
            "217  loop done\n",
            "218  loop done\n",
            "219  loop done\n",
            "220  loop done\n",
            "221  loop done\n",
            "222  loop done\n",
            "223  loop done\n",
            "224  loop done\n",
            "225  loop done\n",
            "226  loop done\n",
            "227  loop done\n",
            "228  loop done\n",
            "229  loop done\n",
            "230  loop done\n",
            "231  loop done\n",
            "232  loop done\n",
            "233  loop done\n",
            "234  loop done\n",
            "235  loop done\n",
            "236  loop done\n",
            "237  loop done\n",
            "238  loop done\n",
            "239  loop done\n",
            "240  loop done\n",
            "241  loop done\n",
            "242  loop done\n",
            "243  loop done\n",
            "244  loop done\n",
            "245  loop done\n",
            "246  loop done\n",
            "247  loop done\n",
            "248  loop done\n",
            "249  loop done\n",
            "250  loop done\n",
            "251  loop done\n",
            "252  loop done\n",
            "253  loop done\n",
            "254  loop done\n",
            "255  loop done\n",
            "256  loop done\n",
            "257  loop done\n",
            "258  loop done\n",
            "259  loop done\n",
            "260  loop done\n",
            "261  loop done\n",
            "262  loop done\n",
            "263  loop done\n",
            "264  loop done\n",
            "265  loop done\n",
            "266  loop done\n",
            "267  loop done\n",
            "268  loop done\n",
            "269  loop done\n",
            "270  loop done\n",
            "271  loop done\n",
            "272  loop done\n",
            "273  loop done\n",
            "274  loop done\n",
            "275  loop done\n",
            "276  loop done\n",
            "277  loop done\n",
            "278  loop done\n",
            "279  loop done\n",
            "280  loop done\n",
            "281  loop done\n",
            "282  loop done\n",
            "283  loop done\n",
            "284  loop done\n",
            "285  loop done\n",
            "286  loop done\n",
            "287  loop done\n",
            "288  loop done\n",
            "289  loop done\n",
            "290  loop done\n",
            "291  loop done\n"
          ]
        }
      ]
    },
    {
      "cell_type": "code",
      "metadata": {
        "colab": {
          "base_uri": "https://localhost:8080/"
        },
        "id": "EBql8AJmPTv3",
        "outputId": "0d093fa6-a5e0-49cc-faf9-5552008afc3e"
      },
      "source": [
        "print(type(global_embeddings))"
      ],
      "execution_count": null,
      "outputs": [
        {
          "output_type": "stream",
          "name": "stdout",
          "text": [
            "<class 'list'>\n"
          ]
        }
      ]
    },
    {
      "cell_type": "code",
      "metadata": {
        "colab": {
          "base_uri": "https://localhost:8080/"
        },
        "id": "qgFjPGeeQmgy",
        "outputId": "05082306-10f0-4125-901e-a9bf241b7856"
      },
      "source": [
        "print(len(global_embeddings))\n",
        "print(len(global_embeddings[0]))\n",
        "print(len(global_embeddings[0][0]))\n",
        "print(len(global_tokens))\n",
        "print(len(global_embeddings[0][0]))"
      ],
      "execution_count": null,
      "outputs": [
        {
          "output_type": "stream",
          "name": "stdout",
          "text": [
            "292\n",
            "45\n",
            "768\n",
            "292\n",
            "768\n"
          ]
        }
      ]
    },
    {
      "cell_type": "code",
      "metadata": {
        "colab": {
          "base_uri": "https://localhost:8080/"
        },
        "id": "2LC9aaIgRR_m",
        "outputId": "2905b7f2-69df-4922-f30f-54b7295decf3"
      },
      "source": [
        "print(type(global_tokens[0][0]))"
      ],
      "execution_count": null,
      "outputs": [
        {
          "output_type": "stream",
          "name": "stdout",
          "text": [
            "<class 'str'>\n"
          ]
        }
      ]
    },
    {
      "cell_type": "code",
      "metadata": {
        "id": "OfRzyCWChb79"
      },
      "source": [
        "# we initialise a global dictionary (storing key value pairs for test, dev and train set) called global dict where key-word, value-tensor of dim 768\n",
        "\n",
        "global_dict={} #stores only unique values\n",
        "\n",
        "for i in range(0,len(global_embeddings)):\n",
        "  for j in range(0,len(global_embeddings[i])):\n",
        "    key_word=global_tokens[i][j]\n",
        "    value_tensor=global_embeddings[i][j]\n",
        "    if key_word in global_dict.keys():\n",
        "      continue;\n",
        "    else:\n",
        "      global_dict.update({key_word:value_tensor})\n",
        "\n",
        "\n"
      ],
      "execution_count": null,
      "outputs": []
    },
    {
      "cell_type": "code",
      "metadata": {
        "colab": {
          "base_uri": "https://localhost:8080/"
        },
        "id": "5eITXCCGjR5c",
        "outputId": "77458ddb-7792-498b-8ce3-1862a57a5fbe"
      },
      "source": [
        "print(len(global_dict)) #up till now, test.sent has been stored here."
      ],
      "execution_count": null,
      "outputs": [
        {
          "output_type": "stream",
          "name": "stdout",
          "text": [
            "2611\n"
          ]
        }
      ]
    },
    {
      "cell_type": "markdown",
      "metadata": {
        "id": "cZBbPtU6jwxg"
      },
      "source": [
        "## Now finding word embeddings from dev.sent"
      ]
    },
    {
      "cell_type": "code",
      "metadata": {
        "id": "8mhiGffGj1SD"
      },
      "source": [
        "sents = []\n",
        "\n",
        "with open(\"/content/drive/MyDrive/event_data_word/dev.sent\", \"r\") as f:\n",
        "  for line in f:\n",
        "    sents.append(line)"
      ],
      "execution_count": null,
      "outputs": []
    },
    {
      "cell_type": "code",
      "metadata": {
        "colab": {
          "base_uri": "https://localhost:8080/"
        },
        "id": "hL9UcPMTkQpG",
        "outputId": "33a75d45-bf02-4e80-c372-2d460016cd63"
      },
      "source": [
        "print(len(sents))"
      ],
      "execution_count": null,
      "outputs": [
        {
          "output_type": "stream",
          "name": "stdout",
          "text": [
            "340\n"
          ]
        }
      ]
    },
    {
      "cell_type": "code",
      "metadata": {
        "colab": {
          "base_uri": "https://localhost:8080/"
        },
        "id": "Tu4bfGhpkXxW",
        "outputId": "ab346b05-6147-433d-aa91-ff49b0ffc256"
      },
      "source": [
        "#number of words in the first sentence:\n",
        "print(len(sents[0]))"
      ],
      "execution_count": null,
      "outputs": [
        {
          "output_type": "stream",
          "name": "stdout",
          "text": [
            "87\n"
          ]
        }
      ]
    },
    {
      "cell_type": "code",
      "metadata": {
        "id": "3GqQ_XDLkhHC"
      },
      "source": [
        "global_embeddings=[]\n",
        "global_tokens=[]"
      ],
      "execution_count": null,
      "outputs": []
    },
    {
      "cell_type": "code",
      "metadata": {
        "id": "odm9I_hCkcoW"
      },
      "source": [
        "for i in range(0,len(sents)):\n",
        "  sentence1=sents[i]\n",
        "  marked_text=\"[CLS] \" + sentence1 + \" [SEP]\"\n",
        "  tokenized_text = tokenizer.tokenize(marked_text)\n",
        "  indexed_tokens = tokenizer.convert_tokens_to_ids(tokenized_text)\n",
        "  tokens_tensor = torch.tensor([indexed_tokens])\n",
        "  # Run the text through BERT, and collect all of the hidden states produced\n",
        "  # from all 12 layers. \n",
        "  with torch.no_grad():\n",
        "    outputs = model(tokens_tensor)\n",
        "    # Evaluating the model will return a different number of objects based on \n",
        "    # how it's  configured in the `from_pretrained` call earlier. In this case, \n",
        "    # becase we set `output_hidden_states = True`, the third item will be the \n",
        "    # hidden states from all layers. See the documentation for more details:\n",
        "    # https://huggingface.co/transformers/model_doc/bert.html#bertmodel\n",
        "    hidden_states = outputs[2]\n",
        "\n",
        "  token_embeddings = torch.stack(hidden_states, dim=0)\n",
        "  token_embeddings = torch.squeeze(token_embeddings, dim=1)\n",
        "  token_embeddings = token_embeddings.permute(1,0,2)\n",
        "\n",
        "  # Stores the token vectors, with shape [22 x 768]\n",
        "  token_vecs_sum = []\n",
        "\n",
        "  # `token_embeddings` is a [22 x 12 x 768] tensor.\n",
        "\n",
        "  # For each token in the sentence...\n",
        "  for token in token_embeddings:\n",
        "\n",
        "    # `token` is a [12 x 768] tensor\n",
        "\n",
        "    # Sum the vectors from the last four layers.\n",
        "    sum_vec = torch.sum(token[-4:], dim=0)\n",
        "    \n",
        "    # Use `sum_vec` to represent `token`.\n",
        "    token_vecs_sum.append(sum_vec)\n",
        "\n",
        "  print(i, \" loop done\")\n",
        "  global_embeddings.append(token_vecs_sum)\n",
        "  global_tokens.append(tokenized_text)"
      ],
      "execution_count": null,
      "outputs": []
    },
    {
      "cell_type": "code",
      "metadata": {
        "colab": {
          "base_uri": "https://localhost:8080/"
        },
        "id": "4Revoa6sk_YT",
        "outputId": "3e61e1c9-c613-4ec8-9c3f-ad52e67f8f4f"
      },
      "source": [
        "print(len(global_embeddings))\n",
        "print(len(global_embeddings[0]))\n",
        "print(len(global_embeddings[0][0]))\n",
        "print(len(global_tokens))\n",
        "print(len(global_tokens[0]))\n",
        "print(type(global_tokens[0][0]))\n",
        "print(type(global_embeddings[0][0]))"
      ],
      "execution_count": null,
      "outputs": [
        {
          "output_type": "stream",
          "name": "stdout",
          "text": [
            "340\n",
            "23\n",
            "768\n",
            "340\n",
            "23\n",
            "<class 'str'>\n",
            "<class 'torch.Tensor'>\n"
          ]
        }
      ]
    },
    {
      "cell_type": "code",
      "metadata": {
        "colab": {
          "base_uri": "https://localhost:8080/"
        },
        "id": "HmdQz5c4lU_b",
        "outputId": "f60a46c4-bf07-46b3-bc36-b96c0a927498"
      },
      "source": [
        "#print((global_tokens[0][4]))\n",
        "print(len(global_embeddings[0][0]))"
      ],
      "execution_count": null,
      "outputs": [
        {
          "output_type": "stream",
          "name": "stdout",
          "text": [
            "768\n"
          ]
        }
      ]
    },
    {
      "cell_type": "code",
      "metadata": {
        "id": "pu54zgYplgV5"
      },
      "source": [
        "# updating global dict\n",
        "\n",
        "for i in range(0,len(global_embeddings)):\n",
        "  for j in range(0,len(global_embeddings[i])):\n",
        "    key_word=global_tokens[i][j]\n",
        "    value_tensor=global_embeddings[i][j]\n",
        "    if key_word in global_dict.keys():\n",
        "      continue;\n",
        "    else:\n",
        "      global_dict.update({key_word:value_tensor})\n",
        "\n",
        "\n"
      ],
      "execution_count": null,
      "outputs": []
    },
    {
      "cell_type": "code",
      "metadata": {
        "colab": {
          "base_uri": "https://localhost:8080/"
        },
        "id": "jzwKcpU-lzA5",
        "outputId": "e39470b5-877f-45ea-c7ad-fcde6aae2eed"
      },
      "source": [
        "print(len(global_dict)) #up till now, test.sent and dev.sent has been stored here."
      ],
      "execution_count": null,
      "outputs": [
        {
          "output_type": "stream",
          "name": "stdout",
          "text": [
            "4045\n"
          ]
        }
      ]
    },
    {
      "cell_type": "markdown",
      "metadata": {
        "id": "EyyCVgzdl26v"
      },
      "source": [
        "## Extracting word embeddings from train.sent"
      ]
    },
    {
      "cell_type": "code",
      "metadata": {
        "id": "OwxTUiigl7cq"
      },
      "source": [
        "sents = []\n",
        "\n",
        "with open(\"/content/drive/MyDrive/event_data_word/train.sent\", \"r\") as f:\n",
        "  for line in f:\n",
        "    sents.append(line)"
      ],
      "execution_count": null,
      "outputs": []
    },
    {
      "cell_type": "code",
      "metadata": {
        "colab": {
          "base_uri": "https://localhost:8080/"
        },
        "id": "mmkbiMzTmGXM",
        "outputId": "9ecd1df8-8460-408c-df3c-b8357a9ee5af"
      },
      "source": [
        "print(len(sents))"
      ],
      "execution_count": null,
      "outputs": [
        {
          "output_type": "stream",
          "name": "stdout",
          "text": [
            "3255\n"
          ]
        }
      ]
    },
    {
      "cell_type": "code",
      "metadata": {
        "colab": {
          "base_uri": "https://localhost:8080/"
        },
        "id": "4Qk0e0kqmMq3",
        "outputId": "e061fce6-b739-4e1c-c792-1bb64a2db80f"
      },
      "source": [
        "#number of words in the first sentence:\n",
        "print(len(sents[0]))"
      ],
      "execution_count": null,
      "outputs": [
        {
          "output_type": "stream",
          "name": "stdout",
          "text": [
            "243\n"
          ]
        }
      ]
    },
    {
      "cell_type": "code",
      "metadata": {
        "id": "fxK5V6RqmRRy"
      },
      "source": [
        "global_embeddings=[]\n",
        "global_tokens=[]"
      ],
      "execution_count": null,
      "outputs": []
    },
    {
      "cell_type": "code",
      "metadata": {
        "id": "k6m7-SJ9mWXj"
      },
      "source": [
        "for i in range(0,len(sents)):\n",
        "  sentence1=sents[i]\n",
        "  marked_text=\"[CLS] \" + sentence1 + \" [SEP]\"\n",
        "  tokenized_text = tokenizer.tokenize(marked_text)\n",
        "  indexed_tokens = tokenizer.convert_tokens_to_ids(tokenized_text)\n",
        "  tokens_tensor = torch.tensor([indexed_tokens])\n",
        "  # Run the text through BERT, and collect all of the hidden states produced\n",
        "  # from all 12 layers. \n",
        "  with torch.no_grad():\n",
        "    outputs = model(tokens_tensor)\n",
        "    # Evaluating the model will return a different number of objects based on \n",
        "    # how it's  configured in the `from_pretrained` call earlier. In this case, \n",
        "    # becase we set `output_hidden_states = True`, the third item will be the \n",
        "    # hidden states from all layers. See the documentation for more details:\n",
        "    # https://huggingface.co/transformers/model_doc/bert.html#bertmodel\n",
        "    hidden_states = outputs[2]\n",
        "\n",
        "  token_embeddings = torch.stack(hidden_states, dim=0)\n",
        "  token_embeddings = torch.squeeze(token_embeddings, dim=1)\n",
        "  token_embeddings = token_embeddings.permute(1,0,2)\n",
        "\n",
        "  # Stores the token vectors, with shape [22 x 768]\n",
        "  token_vecs_sum = []\n",
        "\n",
        "  # `token_embeddings` is a [22 x 12 x 768] tensor.\n",
        "\n",
        "  # For each token in the sentence...\n",
        "  for token in token_embeddings:\n",
        "\n",
        "    # `token` is a [12 x 768] tensor\n",
        "\n",
        "    # Sum the vectors from the last four layers.\n",
        "    sum_vec = torch.sum(token[-4:], dim=0)\n",
        "    \n",
        "    # Use `sum_vec` to represent `token`.\n",
        "    token_vecs_sum.append(sum_vec)\n",
        "\n",
        "  print(i, \" loop done\")\n",
        "  global_embeddings.append(token_vecs_sum)\n",
        "  global_tokens.append(tokenized_text)"
      ],
      "execution_count": null,
      "outputs": []
    },
    {
      "cell_type": "code",
      "metadata": {
        "colab": {
          "base_uri": "https://localhost:8080/"
        },
        "id": "gILAOJ-hodSJ",
        "outputId": "61b508c5-5a9b-4028-f68e-103324da3609"
      },
      "source": [
        "print(len(global_embeddings))\n",
        "print(len(global_embeddings[0]))\n",
        "print(len(global_embeddings[0][0]))\n",
        "print(len(global_tokens))\n",
        "print(len(global_tokens[0]))\n",
        "print(type(global_tokens[0][0]))\n",
        "print(type(global_embeddings[0][0]))"
      ],
      "execution_count": null,
      "outputs": [
        {
          "output_type": "stream",
          "name": "stdout",
          "text": [
            "3255\n",
            "49\n",
            "768\n",
            "3255\n",
            "49\n",
            "<class 'str'>\n",
            "<class 'torch.Tensor'>\n"
          ]
        }
      ]
    },
    {
      "cell_type": "code",
      "metadata": {
        "id": "5_4EMNE4oqgr"
      },
      "source": [
        "#print((global_tokens[0][4]))\n",
        "#print(len(global_embeddings[0][0]))"
      ],
      "execution_count": null,
      "outputs": []
    },
    {
      "cell_type": "code",
      "metadata": {
        "id": "5-fVD_IIovBz"
      },
      "source": [
        "# updating global dict\n",
        "\n",
        "for i in range(0,len(global_embeddings)):\n",
        "  for j in range(0,len(global_embeddings[i])):\n",
        "    key_word=global_tokens[i][j]\n",
        "    value_tensor=global_embeddings[i][j]\n",
        "    if key_word in global_dict.keys():\n",
        "      continue;\n",
        "    else:\n",
        "      global_dict.update({key_word:value_tensor})\n",
        "\n"
      ],
      "execution_count": null,
      "outputs": []
    },
    {
      "cell_type": "code",
      "metadata": {
        "colab": {
          "base_uri": "https://localhost:8080/"
        },
        "id": "BjnCblQyozyB",
        "outputId": "25fdf97b-41f5-4372-bbd8-a2f674c63f92"
      },
      "source": [
        "print(len(global_dict)) "
      ],
      "execution_count": null,
      "outputs": [
        {
          "output_type": "stream",
          "name": "stdout",
          "text": [
            "9185\n"
          ]
        }
      ]
    },
    {
      "cell_type": "code",
      "metadata": {
        "id": "0BtTCi1Js-NB"
      },
      "source": [
        "np_arr = torch_tensor.cpu().detach().numpy()"
      ],
      "execution_count": null,
      "outputs": []
    },
    {
      "cell_type": "code",
      "metadata": {
        "id": "TBI7pk3Ms_Zt"
      },
      "source": [
        "tensor_sample=global_embeddings[0][0]"
      ],
      "execution_count": null,
      "outputs": []
    },
    {
      "cell_type": "code",
      "metadata": {
        "colab": {
          "base_uri": "https://localhost:8080/"
        },
        "id": "cZSXiR4MtF_F",
        "outputId": "12425296-64d4-4a39-9f98-009ae2538324"
      },
      "source": [
        "tensor_sample"
      ],
      "execution_count": null,
      "outputs": [
        {
          "output_type": "execute_result",
          "data": {
            "text/plain": [
              "tensor([-7.5710e-01, -1.0330e+00, -7.8709e-01,  1.0525e+00, -5.1443e-01,\n",
              "        -1.3853e+00, -8.2094e-01,  1.4624e-01,  3.5768e-01, -1.0866e+00,\n",
              "        -1.6580e-01,  1.5161e+00, -8.0159e-01,  2.3410e+00,  1.4964e+00,\n",
              "         2.1920e+00, -5.4929e-01,  2.3138e-01,  1.2602e+00,  5.9935e-01,\n",
              "        -9.1138e-01, -8.9620e-01,  2.1713e+00,  1.1568e+00,  1.5384e+00,\n",
              "        -1.2169e+00, -1.6311e+00, -1.2324e+00, -2.0904e+00,  1.4217e+00,\n",
              "        -2.7893e-01,  6.2479e-01, -2.9870e-01, -2.0983e+00,  5.1230e-01,\n",
              "         1.0679e+00, -3.5244e-01, -7.3044e-02,  2.3687e-01, -6.3274e-02,\n",
              "        -1.3078e+00,  1.3420e+00,  6.2968e-01, -3.8760e-01, -7.3484e-01,\n",
              "        -4.2292e-01, -1.6711e+01,  1.5709e+00,  2.7951e-01, -3.9117e-01,\n",
              "         1.5112e+00, -2.1593e+00, -3.6306e-01,  4.0887e-01,  1.2472e+00,\n",
              "         1.2813e+00, -2.3837e-01, -7.1893e-01, -3.7460e-01, -2.4817e-01,\n",
              "        -1.1006e-01,  4.0411e-01, -1.6750e+00, -2.1719e-01, -2.1624e+00,\n",
              "        -4.4270e-01,  1.4765e+00, -5.7474e-01,  5.2226e-02,  1.7566e+00,\n",
              "        -3.8093e-01,  3.5409e-01,  9.1619e-01, -2.4031e-01, -2.0067e-01,\n",
              "         4.2133e-01, -1.3502e+00,  2.0661e+00, -3.5855e-01,  7.0989e-01,\n",
              "        -1.2270e+00,  7.3940e-01,  8.6492e-01, -3.9173e-01, -6.1292e-01,\n",
              "         1.1952e+00, -1.3931e+00,  1.0018e-01,  8.6789e-01,  1.3153e-01,\n",
              "        -9.8987e-01,  2.3677e-01, -6.1496e-01,  7.4943e-01,  1.9215e+00,\n",
              "        -3.6931e-01,  1.3427e-01, -7.5537e-01, -5.1657e-01,  2.1446e+00,\n",
              "         1.5742e+00,  6.7739e-01,  1.3130e+00, -1.9905e+00, -7.9295e-01,\n",
              "         2.4089e-01,  9.4313e-01, -2.3800e-01, -1.6878e+00, -2.0229e+00,\n",
              "         1.7721e+00,  2.1611e-01,  1.0918e+00, -1.8442e+00, -4.7681e-01,\n",
              "        -1.1793e+00,  9.1959e-01, -1.1559e+00,  9.8430e-01, -1.6773e+00,\n",
              "        -2.4661e-01, -1.2028e+00, -8.5302e-01, -1.6620e+00,  1.4008e+00,\n",
              "        -3.0155e+00,  1.4180e+00, -8.8087e-02,  6.6470e-01,  9.4867e-01,\n",
              "        -4.0557e-01, -5.1989e-01, -4.3112e-01,  6.4142e-01, -2.2797e-01,\n",
              "         2.5734e+00, -1.3231e-01, -8.8773e-01, -2.1500e+00,  1.6917e+00,\n",
              "        -2.6542e+00, -1.6560e+00, -6.4263e+00,  1.5598e+00,  2.5196e+00,\n",
              "         1.4996e+00,  1.7364e+00,  1.2904e+00,  8.7867e-01, -8.0384e-01,\n",
              "        -8.2453e-01, -5.4442e-01, -4.3860e-01, -5.4856e-01, -6.9284e-01,\n",
              "        -2.6914e-01, -5.1232e-01, -1.2190e+00, -2.6524e-03,  1.8959e+00,\n",
              "         2.4811e-01, -1.6292e-02,  1.0220e+00, -1.8319e+00,  1.2165e+00,\n",
              "         1.0063e+00,  1.3207e+00,  3.9632e-01,  4.2024e-03, -7.2015e-01,\n",
              "         6.0169e-01,  3.6282e-01,  1.6260e+00, -2.0317e+00,  2.3384e-01,\n",
              "         3.8480e-01, -9.3669e-01,  1.9662e+00,  6.9329e-03,  7.6211e-01,\n",
              "        -4.3357e-01,  1.2197e+00,  1.2472e+00, -1.3163e-01,  1.1424e+00,\n",
              "         3.1024e-02,  4.7498e-01, -3.2126e-01,  2.8502e-01,  5.9595e-01,\n",
              "        -4.0044e-01, -1.9474e+00,  2.5902e-01, -1.1921e+00,  4.6126e-02,\n",
              "         5.6768e-02,  1.5012e+00, -1.6456e+00, -4.2494e-01,  9.1374e-02,\n",
              "        -2.1282e-01,  1.3860e+00, -2.6756e+00, -1.2272e+00,  2.5622e-01,\n",
              "         1.0713e+01, -5.4440e-01,  7.8978e-01,  7.4332e-01,  1.5597e-01,\n",
              "        -8.4872e-01, -1.9184e+00, -2.0321e+00,  1.3578e+00, -2.2425e+00,\n",
              "         1.7128e+00, -1.1719e+00, -5.4484e-01, -8.0372e-01, -6.0901e-01,\n",
              "        -1.0893e+00,  2.8378e+00, -1.3051e+00,  8.7511e-02, -2.6405e+00,\n",
              "         3.5865e-01, -2.7942e+00,  3.3862e-01, -3.2350e-02, -6.7925e+00,\n",
              "         2.1535e+00, -1.0635e+00, -1.8091e+00, -2.7516e-01,  7.8947e-01,\n",
              "        -8.3320e-01,  1.8416e-01,  1.3529e+00, -2.8043e-01, -7.6663e-01,\n",
              "        -1.8471e+00, -1.4577e+00,  2.1861e+00,  1.7983e+00,  3.1063e-01,\n",
              "         1.3083e+00,  4.8941e-01, -9.2989e-01,  2.0661e-01, -1.4323e-01,\n",
              "         3.0147e-02,  2.9139e+00,  1.6777e+00,  4.0518e-01,  6.0050e-01,\n",
              "         5.2258e-01, -3.0870e-01,  1.0201e+00, -1.0535e-01, -1.9531e+00,\n",
              "        -8.4018e-01,  6.0658e-01, -6.1329e-01,  2.0398e+00, -1.0421e+00,\n",
              "        -2.8357e-01, -3.7772e-01, -2.2912e+00,  5.2428e-01, -1.6888e+00,\n",
              "         3.9235e-01, -5.5157e-01, -3.3505e+00, -2.3516e+00, -4.7857e-01,\n",
              "        -1.4629e+00, -4.4616e-03,  1.1539e+00,  2.3098e+00, -8.7661e-01,\n",
              "         3.2245e-01, -6.0461e-01, -4.5343e-02,  2.3055e+00,  2.0431e-01,\n",
              "        -8.0617e-01,  1.4278e+00, -2.5714e+00,  1.3669e+00,  4.4407e-01,\n",
              "        -9.2608e-01, -2.2013e+00, -2.2746e+00, -2.0323e-01, -2.3286e-01,\n",
              "         2.2719e-01,  8.8808e-01,  3.1734e-01,  1.7341e+00, -1.6757e+00,\n",
              "        -3.5956e+00,  1.2893e+00, -3.8832e-01, -1.2234e+00, -9.8648e-01,\n",
              "        -1.0156e+00, -1.9009e+00,  5.7249e-02, -2.1246e+01,  1.5359e+00,\n",
              "        -6.8469e-01, -2.2245e-01,  1.0369e+00,  1.4340e-01,  3.3488e+00,\n",
              "        -9.6083e-01, -4.3389e-01,  8.5272e-01,  2.8941e+00, -1.0166e+00,\n",
              "         3.0087e+00, -2.7118e+00,  1.0340e+00,  2.4710e-01,  2.2980e+00,\n",
              "        -2.4488e+00, -5.3806e-01,  3.8181e-01, -1.3471e+00, -9.6702e-01,\n",
              "         1.1271e+00, -2.6755e-01,  6.0935e-01,  2.0686e-01, -4.0169e+00,\n",
              "        -1.8623e+00,  1.4172e+00, -7.6569e-01,  1.1919e+00, -2.4181e+00,\n",
              "        -3.7204e-02,  1.8457e+00,  1.2648e-01, -1.2798e+00, -1.5357e+00,\n",
              "        -1.1564e+00,  1.8318e+00, -1.5643e-01,  6.8941e-01,  1.7245e+00,\n",
              "        -4.8920e-01, -1.7548e+00, -4.8831e-01,  2.2294e-01,  1.9088e+00,\n",
              "         2.1481e+00,  1.0539e+00,  5.9503e-01,  1.1623e+00,  9.4830e-01,\n",
              "         4.3730e+00, -3.6492e-01,  2.5266e-01, -8.7995e-01,  4.4705e-01,\n",
              "        -1.4260e+00, -1.4232e+00,  4.8619e-01,  3.2929e+00, -2.0311e+00,\n",
              "         1.0764e+00, -5.4513e-01,  2.5901e+00, -2.1545e+00,  1.3816e+00,\n",
              "        -2.3923e+00, -1.4273e+00, -8.5868e-01, -1.9997e+00,  1.6060e+00,\n",
              "        -1.9455e+00, -1.4709e+01, -2.2990e-01, -3.3528e-01,  4.2222e-01,\n",
              "        -2.1894e-01,  2.2717e-02,  1.7588e+00, -6.0240e-01, -5.1282e-02,\n",
              "        -5.8333e-01, -1.9631e-01, -1.6614e+00, -5.9650e-01, -1.1416e+00,\n",
              "         8.7680e-01, -5.3444e-01, -3.4775e-02,  5.1767e-02, -5.3023e-01,\n",
              "         1.5578e+00,  9.1244e-01, -4.4797e-01, -2.7269e-01,  1.4064e+00,\n",
              "        -4.4088e-01,  2.0221e+00,  3.1527e+00, -1.4710e+00, -7.4415e-01,\n",
              "        -7.5735e-01, -7.0765e-01, -1.7247e+00, -3.5988e+00, -1.2150e-01,\n",
              "         2.2790e+00, -2.3074e-01,  6.3281e-01, -1.8868e+00,  1.6596e-01,\n",
              "         7.7247e-01, -3.0039e-01,  3.6384e+00, -2.7516e+00,  1.6883e+00,\n",
              "         1.0555e+00,  2.1832e+00, -1.9973e+00,  2.1773e+00, -2.9144e-01,\n",
              "         6.1604e-01,  8.5258e-01,  1.1598e+00, -1.6187e+00, -9.1508e-02,\n",
              "         1.8764e+00, -6.4729e-01, -3.2372e-01, -2.0998e-02,  1.1233e+00,\n",
              "        -2.2783e+00, -2.7603e-01, -6.1080e-01,  5.1736e-01, -6.7433e-01,\n",
              "        -3.7318e-02,  9.2206e-01,  3.4111e+00,  2.5668e+00,  7.3438e-01,\n",
              "        -1.4100e+00,  8.0885e-01, -6.4029e-01,  9.0388e-02,  3.8316e-01,\n",
              "         2.4237e+00,  6.3097e-01,  1.6017e+00, -3.5253e-01,  3.0548e+00,\n",
              "         1.1060e+00, -6.0664e-01,  6.3737e-02,  1.2950e+00, -1.0340e+00,\n",
              "        -1.5385e-01,  3.7152e-01, -6.6818e-02,  1.8914e+00,  2.2277e+00,\n",
              "        -9.6911e+00, -1.9181e+00,  1.5409e+00,  4.3876e-01,  1.4916e+00,\n",
              "        -6.1090e-01,  1.2372e+00,  2.1170e+00, -1.3388e+00,  1.4404e-01,\n",
              "        -5.7580e-01,  5.8065e-01, -1.1973e+00, -1.9103e+00,  2.0125e-01,\n",
              "        -6.5953e-01,  4.5787e-01, -2.1483e-01,  2.0117e+00,  1.1119e+00,\n",
              "        -6.8780e-01,  2.5333e+00,  1.6516e+00,  2.7574e-02,  7.3307e-01,\n",
              "        -1.1901e+00, -1.8740e+00, -3.7853e-02,  1.3556e+00,  1.6079e+00,\n",
              "         1.5723e+00,  2.8701e-01, -6.5154e-01, -2.2938e+00,  5.9764e-01,\n",
              "         2.3854e-01,  1.2019e+00,  4.3435e-01, -4.3730e-01,  2.1141e+00,\n",
              "        -6.6546e-01,  1.4152e+00,  1.0284e+00,  2.2947e+00,  2.6398e+00,\n",
              "        -4.1943e-01, -8.6425e-01, -1.1858e+00, -1.0277e+00,  2.6409e-01,\n",
              "         1.4934e+00,  1.5352e+00, -1.7931e+00, -9.8686e-01, -1.9297e+00,\n",
              "        -2.6682e-01, -1.2039e+00,  1.6141e+00, -3.1028e+00, -3.4833e-01,\n",
              "         3.9224e+00, -2.3668e+00, -4.3854e-01, -6.5996e-01,  1.7691e-01,\n",
              "        -2.9286e+00, -1.2269e+00,  5.3197e-01, -2.0441e+00,  2.0418e+00,\n",
              "         9.0496e-01, -5.5210e-01, -1.1429e+00,  2.7114e+00, -2.9446e-01,\n",
              "         1.1328e+00, -6.9234e-01,  1.3020e-01,  1.2955e-01, -3.5619e-01,\n",
              "        -6.6214e-02, -7.3833e-01,  1.1191e+00,  1.5186e+00,  1.1723e+00,\n",
              "         2.6054e+00, -9.0386e-01, -7.5486e-01,  4.6428e-01,  8.7413e-01,\n",
              "        -1.9440e+00, -1.1136e+00,  9.8804e-01,  1.3398e-01,  8.7368e-01,\n",
              "        -8.6934e-01, -7.9413e-01, -2.7040e+00, -1.9086e+00, -2.3222e+00,\n",
              "        -2.6039e+00,  4.0729e-01,  6.9364e-01, -8.0566e-01, -1.6582e+00,\n",
              "         3.4113e+00,  2.0143e+00,  2.9268e-01, -7.2349e-01, -4.7784e-01,\n",
              "         1.5955e+00, -7.5105e-01, -8.2111e-01,  1.4579e+00,  1.6439e+00,\n",
              "        -7.2303e-01,  1.0598e+00, -2.1309e+00,  1.6109e+00, -4.5628e-01,\n",
              "        -1.4227e+00, -5.8683e-01,  1.8131e+00,  1.7372e-01,  1.3215e-01,\n",
              "         5.7694e-01, -7.4842e-01,  1.7669e+00, -1.5448e+00,  1.8107e+00,\n",
              "        -6.7589e-01, -1.2985e+00,  3.0307e+00,  1.0029e+00,  3.5192e-01,\n",
              "         1.9361e-01, -1.7649e+00,  1.8592e+00, -1.1157e+00,  1.9852e+00,\n",
              "         6.9367e-02, -1.5575e+00, -2.2817e+00,  1.3724e+00, -6.3159e-01,\n",
              "         1.2500e+00,  8.8461e-01,  2.0734e+00,  1.7767e+00,  1.0824e+00,\n",
              "        -3.8603e-01,  2.2566e+00, -1.4122e+00, -4.4714e-01, -9.8598e-01,\n",
              "         2.9575e-01, -3.6709e-01,  4.8037e-01,  1.4655e+00, -4.5108e-01,\n",
              "         4.4266e-01, -1.7387e+00,  6.2152e-01,  1.4272e+00,  5.6509e-01,\n",
              "        -1.2299e+00,  1.4085e+00,  2.9689e+00, -7.2586e-01, -5.7767e-01,\n",
              "         5.5754e-01, -1.0928e+00,  1.8670e-01,  6.0286e-03, -1.8010e+00,\n",
              "         5.3931e-02, -1.8321e+00,  1.6673e+00, -6.4991e-01, -2.8761e-01,\n",
              "         3.0698e+00, -2.2617e+00, -1.2949e+00, -1.0568e+00, -3.6550e-01,\n",
              "         1.4044e+00,  9.0023e-01, -1.6627e+00,  4.6928e-01,  1.8839e+00,\n",
              "         2.6410e+00,  1.8329e+00,  1.2951e+00,  1.3720e+00,  1.0971e+00,\n",
              "         7.9721e-01, -3.4232e-01, -3.8618e+00, -4.1278e-01,  8.8421e-02,\n",
              "         1.0288e+00, -7.2737e-01,  2.1075e+00,  2.3254e+00, -9.3214e-01,\n",
              "        -1.2252e-01,  6.3713e-01, -1.2065e+00,  2.0336e+00,  3.3353e+00,\n",
              "        -3.9192e-01,  1.0589e+00, -2.8100e+00, -1.6959e+00, -9.2918e-01,\n",
              "         1.6229e-01,  1.0465e+00,  1.0380e+00,  2.6128e-01, -1.7000e+00,\n",
              "        -2.0034e+00, -1.9006e+00,  8.1134e-01,  9.8581e-01,  1.1510e+00,\n",
              "         6.8955e-01, -1.1667e+00, -1.1332e+00,  2.0516e+00, -1.2802e+00,\n",
              "        -2.3845e+00,  1.9694e+00,  9.3335e-01, -1.4000e+00,  2.2622e-01,\n",
              "        -1.3740e+00,  4.1114e-01, -4.7584e-01,  3.1553e+00, -2.2625e+00,\n",
              "         5.3151e-01,  1.3140e+00, -4.3396e-01,  1.2387e+00, -1.2543e+00,\n",
              "         9.7495e-01,  2.9376e-01,  2.7885e-01,  1.1870e+00,  3.5205e-01,\n",
              "         4.1079e-01,  3.6798e-01, -9.0416e-02,  3.7246e-01,  4.0938e-01,\n",
              "        -1.1311e+00, -1.6017e+00, -2.0010e+00, -6.1975e-01, -1.4007e+00,\n",
              "        -1.5798e+00,  1.3394e+00, -3.0008e-01, -1.9227e+00, -1.2186e-02,\n",
              "        -7.1498e-01, -2.7852e+00, -1.7025e+00,  1.0890e+00, -9.2626e-02,\n",
              "         7.8300e-01,  5.0911e-01, -2.1393e-01,  1.0249e-01,  9.9797e-01,\n",
              "        -1.3544e+00, -2.1718e+00,  8.9739e-01,  1.5994e+00,  3.9874e-01,\n",
              "        -1.7892e+00, -1.9361e+00, -5.9734e+00,  5.6081e-01, -2.9406e+00,\n",
              "         5.7460e-01, -1.3127e+00, -2.7865e+00, -1.2429e+00,  4.6998e-01,\n",
              "        -1.4028e+00, -2.2173e+00, -2.4245e-01, -3.2887e-01,  5.9389e-01,\n",
              "         6.7660e-01,  1.5168e+00, -2.8970e-01])"
            ]
          },
          "metadata": {},
          "execution_count": 152
        }
      ]
    },
    {
      "cell_type": "code",
      "metadata": {
        "colab": {
          "base_uri": "https://localhost:8080/"
        },
        "id": "qR8hc6MMtJ3G",
        "outputId": "0ffaa460-dfcb-4bd3-8284-bebf9cf8f68d"
      },
      "source": [
        "np_arr = tensor_sample.cpu().detach().numpy()\n",
        "#print(np_arr)\n",
        "print(np_arr.shape)"
      ],
      "execution_count": null,
      "outputs": [
        {
          "output_type": "stream",
          "name": "stdout",
          "text": [
            "(768,)\n"
          ]
        }
      ]
    },
    {
      "cell_type": "code",
      "metadata": {
        "colab": {
          "base_uri": "https://localhost:8080/"
        },
        "id": "hi7tk4MOtyS3",
        "outputId": "1da66df9-27e3-415d-da98-7dcce449d20a"
      },
      "source": [
        "lis_sample = np_arr.tolist()\n",
        "print(len(lis_sample))\n",
        "#"
      ],
      "execution_count": null,
      "outputs": [
        {
          "output_type": "stream",
          "name": "stdout",
          "text": [
            "768\n"
          ]
        }
      ]
    },
    {
      "cell_type": "code",
      "metadata": {
        "colab": {
          "base_uri": "https://localhost:8080/"
        },
        "id": "XM83huHwt_W4",
        "outputId": "9b77c5f8-b29a-44e8-fba9-2357e1c6c28b"
      },
      "source": [
        "print((lis_sample))"
      ],
      "execution_count": null,
      "outputs": [
        {
          "output_type": "stream",
          "name": "stdout",
          "text": [
            "[-0.7571009993553162, -1.032955288887024, -0.7870947122573853, 1.0524816513061523, -0.5144277811050415, -1.3852720260620117, -0.8209407329559326, 0.14624309539794922, 0.3576781153678894, -1.0865501165390015, -0.16580255329608917, 1.5160596370697021, -0.8015868067741394, 2.3409523963928223, 1.4964288473129272, 2.192047595977783, -0.5492921471595764, 0.2313826084136963, 1.260237455368042, 0.5993461012840271, -0.9113841652870178, -0.8961969614028931, 2.1712636947631836, 1.1567867994308472, 1.538431167602539, -1.216883897781372, -1.6310796737670898, -1.2323887348175049, -2.0903656482696533, 1.421687126159668, -0.27893170714378357, 0.624790370464325, -0.2987031936645508, -2.0983057022094727, 0.5122988820075989, 1.0679155588150024, -0.3524435758590698, -0.07304379343986511, 0.23687298595905304, -0.06327390670776367, -1.3078484535217285, 1.3419749736785889, 0.629676103591919, -0.38760435581207275, -0.7348389029502869, -0.4229176342487335, -16.710525512695312, 1.5709049701690674, 0.2795099914073944, -0.39116790890693665, 1.511204719543457, -2.1593117713928223, -0.36305922269821167, 0.40886756777763367, 1.2471654415130615, 1.2813116312026978, -0.23837490379810333, -0.71892911195755, -0.37459874153137207, -0.2481735646724701, -0.1100640520453453, 0.4041140079498291, -1.6749688386917114, -0.217189222574234, -2.1624486446380615, -0.4427025616168976, 1.4764525890350342, -0.5747423768043518, 0.0522262379527092, 1.7565547227859497, -0.3809278607368469, 0.35409361124038696, 0.9161853790283203, -0.24031062424182892, -0.20066870748996735, 0.421326220035553, -1.3501877784729004, 2.066059112548828, -0.3585488498210907, 0.7098891139030457, -1.2269649505615234, 0.7393969297409058, 0.864915668964386, -0.39173275232315063, -0.6129200458526611, 1.1951684951782227, -1.3930760622024536, 0.10018423944711685, 0.8678934574127197, 0.1315329372882843, -0.9898726940155029, 0.23677220940589905, -0.6149553060531616, 0.7494324445724487, 1.921487808227539, -0.3693070709705353, 0.13427028059959412, -0.7553659081459045, -0.5165668725967407, 2.1445744037628174, 1.574155330657959, 0.6773883700370789, 1.3130483627319336, -1.990450143814087, -0.7929543256759644, 0.24089062213897705, 0.9431288242340088, -0.23799608647823334, -1.6878397464752197, -2.0229454040527344, 1.7720906734466553, 0.21610525250434875, 1.091818928718567, -1.8441907167434692, -0.47681015729904175, -1.179260492324829, 0.9195948839187622, -1.1559295654296875, 0.9842969179153442, -1.6773219108581543, -0.24660563468933105, -1.2028467655181885, -0.8530240058898926, -1.6620135307312012, 1.4007948637008667, -3.015507698059082, 1.4179744720458984, -0.08808739483356476, 0.6647040247917175, 0.9486678242683411, -0.40556880831718445, -0.5198860168457031, -0.4311172366142273, 0.6414209604263306, -0.2279723882675171, 2.5733861923217773, -0.1323060393333435, -0.8877347111701965, -2.149974822998047, 1.6917171478271484, -2.6541666984558105, -1.6559985876083374, -6.426263809204102, 1.5597610473632812, 2.5195741653442383, 1.4995967149734497, 1.7363946437835693, 1.290435791015625, 0.8786666393280029, -0.8038443922996521, -0.8245269060134888, -0.5444151759147644, -0.4386044442653656, -0.548559308052063, -0.6928389668464661, -0.2691371738910675, -0.5123168230056763, -1.2189775705337524, -0.0026523619890213013, 1.895880937576294, 0.24811139702796936, -0.01629202626645565, 1.0220078229904175, -1.831895112991333, 1.2165048122406006, 1.0062706470489502, 1.320716381072998, 0.3963235914707184, 0.004202365875244141, -0.7201461791992188, 0.6016944646835327, 0.3628222942352295, 1.6259870529174805, -2.0317351818084717, 0.23383787274360657, 0.38479846715927124, -0.936693549156189, 1.9662379026412964, 0.006932906806468964, 0.762114405632019, -0.4335712194442749, 1.219711184501648, 1.2471973896026611, -0.1316278725862503, 1.1423851251602173, 0.031024128198623657, 0.4749797284603119, -0.3212628662586212, 0.28502073884010315, 0.5959517955780029, -0.40044164657592773, -1.9474451541900635, 0.2590203285217285, -1.1921042203903198, 0.04612649232149124, 0.05676771700382233, 1.5012485980987549, -1.6456170082092285, -0.4249425232410431, 0.09137400984764099, -0.21282434463500977, 1.3859822750091553, -2.6756396293640137, -1.2271753549575806, 0.2562180459499359, 10.713395118713379, -0.5443965196609497, 0.7897822856903076, 0.7433223724365234, 0.15597137808799744, -0.8487192988395691, -1.918411135673523, -2.0320653915405273, 1.3577500581741333, -2.2424845695495605, 1.7127952575683594, -1.1719332933425903, -0.5448414087295532, -0.8037235736846924, -0.6090100407600403, -1.0893326997756958, 2.8377845287323, -1.3050546646118164, 0.08751123398542404, -2.6405131816864014, 0.35864782333374023, -2.794234275817871, 0.3386242985725403, -0.03234994411468506, -6.792541980743408, 2.1535074710845947, -1.0635427236557007, -1.8090894222259521, -0.2751571238040924, 0.7894662022590637, -0.8332003355026245, 0.18415500223636627, 1.3529282808303833, -0.28042736649513245, -0.7666296362876892, -1.8470791578292847, -1.4577383995056152, 2.1861190795898438, 1.7982749938964844, 0.31062740087509155, 1.3082865476608276, 0.4894149899482727, -0.9298902750015259, 0.20661243796348572, -0.1432347446680069, 0.030146732926368713, 2.9139456748962402, 1.6776942014694214, 0.40518054366111755, 0.6005021333694458, 0.5225802659988403, -0.30869731307029724, 1.0200912952423096, -0.1053520143032074, -1.953136682510376, -0.840177059173584, 0.6065833568572998, -0.6132895946502686, 2.03983211517334, -1.0420656204223633, -0.28356993198394775, -0.3777240216732025, -2.2911856174468994, 0.5242835283279419, -1.6888245344161987, 0.3923470973968506, -0.5515705943107605, -3.3505382537841797, -2.3515570163726807, -0.4785746932029724, -1.4629279375076294, -0.004461608827114105, 1.153862476348877, 2.3098433017730713, -0.8766058683395386, 0.3224451243877411, -0.6046074032783508, -0.04534267634153366, 2.305469036102295, 0.2043052315711975, -0.8061692714691162, 1.427799940109253, -2.571380138397217, 1.3668855428695679, 0.44407403469085693, -0.9260792136192322, -2.2012743949890137, -2.274646043777466, -0.2032279372215271, -0.23286232352256775, 0.22719448804855347, 0.8880754709243774, 0.3173360526561737, 1.7340974807739258, -1.6756922006607056, -3.59564471244812, 1.2893452644348145, -0.3883231580257416, -1.2234498262405396, -0.9864785075187683, -1.0156329870224, -1.9009449481964111, 0.05724947154521942, -21.24579429626465, 1.5359244346618652, -0.6846925020217896, -0.22245337069034576, 1.0368659496307373, 0.14340348541736603, 3.348843812942505, -0.9608280658721924, -0.4338919520378113, 0.8527226448059082, 2.894143581390381, -1.016639232635498, 3.008692741394043, -2.711758852005005, 1.0339815616607666, 0.2470993548631668, 2.2979602813720703, -2.44884991645813, -0.5380641222000122, 0.38181406259536743, -1.3471037149429321, -0.9670161604881287, 1.127052903175354, -0.2675471305847168, 0.6093534231185913, 0.20685936510562897, -4.016937255859375, -1.8622509241104126, 1.417219877243042, -0.7656918168067932, 1.1918747425079346, -2.41806697845459, -0.03720374405384064, 1.8457139730453491, 0.12647783756256104, -1.2797945737838745, -1.5357288122177124, -1.1564075946807861, 1.831782341003418, -0.15642887353897095, 0.6894051432609558, 1.7244844436645508, -0.48919907212257385, -1.7547740936279297, -0.48831331729888916, 0.2229357361793518, 1.9087897539138794, 2.14808988571167, 1.0538668632507324, 0.5950314998626709, 1.1623181104660034, 0.9482955932617188, 4.372952461242676, -0.36491525173187256, 0.25265657901763916, -0.8799540996551514, 0.44705450534820557, -1.4259583950042725, -1.4232219457626343, 0.4861861765384674, 3.2928528785705566, -2.031118631362915, 1.0764168500900269, -0.5451322197914124, 2.5901272296905518, -2.1545307636260986, 1.3815661668777466, -2.3923215866088867, -1.4273358583450317, -0.8586827516555786, -1.9997059106826782, 1.6060006618499756, -1.9454879760742188, -14.708913803100586, -0.22990316152572632, -0.3352826237678528, 0.4222150444984436, -0.21894428133964539, 0.02271685004234314, 1.7587904930114746, -0.6023960113525391, -0.051282379776239395, -0.5833271145820618, -0.19631031155586243, -1.6613765954971313, -0.5964983701705933, -1.1416019201278687, 0.8768007159233093, -0.534435510635376, -0.03477536141872406, 0.05176711082458496, -0.5302290320396423, 1.557826280593872, 0.9124417304992676, -0.447971910238266, -0.27269402146339417, 1.4064011573791504, -0.4408833086490631, 2.022050142288208, 3.152651309967041, -1.4709599018096924, -0.7441537380218506, -0.7573494911193848, -0.7076488733291626, -1.7247436046600342, -3.598811626434326, -0.12149930000305176, 2.2789971828460693, -0.23073813319206238, 0.6328126788139343, -1.8868473768234253, 0.1659604161977768, 0.7724677324295044, -0.30039486289024353, 3.6384220123291016, -2.751591920852661, 1.68825101852417, 1.0554715394973755, 2.183243751525879, -1.9972625970840454, 2.1772732734680176, -0.2914386987686157, 0.6160385608673096, 0.8525774478912354, 1.1598365306854248, -1.6187348365783691, -0.09150782972574234, 1.8763715028762817, -0.6472852826118469, -0.3237167000770569, -0.020998110994696617, 1.1232600212097168, -2.278268337249756, -0.27603211998939514, -0.6108002662658691, 0.5173563957214355, -0.6743327379226685, -0.03731768578290939, 0.9220591187477112, 3.4111201763153076, 2.566819667816162, 0.7343848347663879, -1.4099748134613037, 0.8088493347167969, -0.6402878165245056, 0.09038844704627991, 0.38315629959106445, 2.423720359802246, 0.6309694647789001, 1.601665735244751, -0.35252875089645386, 3.054840087890625, 1.1060408353805542, -0.6066407561302185, 0.06373714655637741, 1.2950435876846313, -1.0340322256088257, -0.15385130047798157, 0.3715207278728485, -0.06681837141513824, 1.891399621963501, 2.2277441024780273, -9.691133499145508, -1.91812002658844, 1.5409456491470337, 0.43875908851623535, 1.4916337728500366, -0.610901415348053, 1.23723304271698, 2.1170239448547363, -1.3388371467590332, 0.14403629302978516, -0.5757983922958374, 0.5806544423103333, -1.1972588300704956, -1.9102838039398193, 0.20125137269496918, -0.6595320701599121, 0.45786935091018677, -0.2148318886756897, 2.0116615295410156, 1.1118918657302856, -0.6878005266189575, 2.5333242416381836, 1.6516098976135254, 0.02757359854876995, 0.7330653667449951, -1.1901483535766602, -1.8740155696868896, -0.03785321116447449, 1.3555619716644287, 1.6078546047210693, 1.5722581148147583, 0.28701210021972656, -0.6515411734580994, -2.2938425540924072, 0.5976350903511047, 0.23853933811187744, 1.2018702030181885, 0.4343473017215729, -0.4372972846031189, 2.114084005355835, -0.6654619574546814, 1.4151642322540283, 1.0284032821655273, 2.2947139739990234, 2.6398487091064453, -0.41943004727363586, -0.8642466068267822, -1.1858359575271606, -1.0277128219604492, 0.2640853226184845, 1.493350625038147, 1.5351922512054443, -1.7930941581726074, -0.9868645071983337, -1.9296835660934448, -0.2668191194534302, -1.2038966417312622, 1.6141455173492432, -3.102773666381836, -0.3483285903930664, 3.9224321842193604, -2.366802930831909, -0.4385397136211395, -0.6599609851837158, 0.1769053041934967, -2.9286344051361084, -1.2268965244293213, 0.5319703817367554, -2.044135808944702, 2.0418009757995605, 0.904958963394165, -0.5521008372306824, -1.1428731679916382, 2.7113945484161377, -0.29445886611938477, 1.132840871810913, -0.6923424005508423, 0.13019587099552155, 0.129545658826828, -0.35618680715560913, -0.06621372699737549, -0.738334596157074, 1.1190745830535889, 1.5186409950256348, 1.1722989082336426, 2.605374336242676, -0.9038591384887695, -0.7548635601997375, 0.4642806351184845, 0.8741317987442017, -1.9439547061920166, -1.113635778427124, 0.9880384206771851, 0.13397836685180664, 0.8736756443977356, -0.8693360090255737, -0.7941339612007141, -2.7039871215820312, -1.90864896774292, -2.322176933288574, -2.603900671005249, 0.4072853922843933, 0.6936361193656921, -0.8056618571281433, -1.6581671237945557, 3.411294460296631, 2.0142688751220703, 0.29267820715904236, -0.7234907150268555, -0.4778449833393097, 1.595538854598999, -0.751049280166626, -0.8211103081703186, 1.4579174518585205, 1.6439392566680908, -0.7230274677276611, 1.0598233938217163, -2.130908489227295, 1.6109347343444824, -0.45628321170806885, -1.4226562976837158, -0.5868253111839294, 1.8130788803100586, 0.1737176775932312, 0.13214828073978424, 0.5769432783126831, -0.7484232783317566, 1.7669011354446411, -1.5448130369186401, 1.8106571435928345, -0.675891101360321, -1.2984741926193237, 3.0307178497314453, 1.0028537511825562, 0.3519158661365509, 0.19360730051994324, -1.764948844909668, 1.8592023849487305, -1.1156901121139526, 1.985182762145996, 0.06936745345592499, -1.5575125217437744, -2.281714916229248, 1.3724069595336914, -0.6315901279449463, 1.2500054836273193, 0.8846111297607422, 2.0733704566955566, 1.7767413854599, 1.0823825597763062, -0.38602569699287415, 2.2566018104553223, -1.4121718406677246, -0.4471447765827179, -0.9859831929206848, 0.2957465648651123, -0.36709412932395935, 0.48037344217300415, 1.4655120372772217, -0.45107781887054443, 0.4426642060279846, -1.738705039024353, 0.6215223670005798, 1.4271552562713623, 0.565087080001831, -1.2298829555511475, 1.4084503650665283, 2.9688706398010254, -0.725855827331543, -0.577674150466919, 0.557544469833374, -1.092780590057373, 0.1867031753063202, 0.006028592586517334, -1.800970435142517, 0.05393112450838089, -1.8321160078048706, 1.6673330068588257, -0.649906575679779, -0.28760698437690735, 3.0697555541992188, -2.26165771484375, -1.2949074506759644, -1.0567502975463867, -0.36549630761146545, 1.4043608903884888, 0.9002252817153931, -1.6626707315444946, 0.4692804515361786, 1.883862018585205, 2.640955924987793, 1.8329261541366577, 1.2950959205627441, 1.3720417022705078, 1.0971136093139648, 0.7972104549407959, -0.3423181474208832, -3.8617970943450928, -0.4127824902534485, 0.08842137455940247, 1.0288071632385254, -0.7273697853088379, 2.1075353622436523, 2.3253791332244873, -0.9321385622024536, -0.12251643091440201, 0.6371296644210815, -1.2065472602844238, 2.0336339473724365, 3.335322856903076, -0.39192497730255127, 1.0588812828063965, -2.810009002685547, -1.6959224939346313, -0.9291844367980957, 0.16229119896888733, 1.0464500188827515, 1.0380377769470215, 0.2612791359424591, -1.699990153312683, -2.00343656539917, -1.900552749633789, 0.8113383054733276, 0.9858132600784302, 1.150994062423706, 0.6895467638969421, -1.1667163372039795, -1.1332147121429443, 2.0516257286071777, -1.280195951461792, -2.3845255374908447, 1.9693777561187744, 0.9333535432815552, -1.3999611139297485, 0.22621920704841614, -1.374014139175415, 0.411144882440567, -0.47584012150764465, 3.155332565307617, -2.2625346183776855, 0.5315109491348267, 1.3140276670455933, -0.43396279215812683, 1.2386703491210938, -1.2543175220489502, 0.9749506711959839, 0.29375800490379333, 0.27884986996650696, 1.1870439052581787, 0.35204997658729553, 0.41079142689704895, 0.367976576089859, -0.09041561931371689, 0.3724561631679535, 0.40937796235084534, -1.1311290264129639, -1.6017098426818848, -2.001008987426758, -0.6197533011436462, -1.400748610496521, -1.5798234939575195, 1.3393683433532715, -0.3000812530517578, -1.9227063655853271, -0.01218627393245697, -0.7149829864501953, -2.785174608230591, -1.7025195360183716, 1.0889607667922974, -0.09262625873088837, 0.7830029726028442, 0.5091087818145752, -0.21393433213233948, 0.10249338299036026, 0.9979720115661621, -1.3543699979782104, -2.17179012298584, 0.8973943591117859, 1.5994231700897217, 0.39874157309532166, -1.7891664505004883, -1.9361331462860107, -5.973390579223633, 0.5608103275299072, -2.9405550956726074, 0.5746013522148132, -1.3127201795578003, -2.786482334136963, -1.2428922653198242, 0.46998196840286255, -1.4027729034423828, -2.2172751426696777, -0.2424490749835968, -0.32886719703674316, 0.5938944220542908, 0.6765986680984497, 1.5167732238769531, -0.28970086574554443]\n"
          ]
        }
      ]
    },
    {
      "cell_type": "code",
      "metadata": {
        "id": "OcLiiN2wuBsG"
      },
      "source": [
        "string_sample=\" \".join(str(item) for item in lis_sample)"
      ],
      "execution_count": null,
      "outputs": []
    },
    {
      "cell_type": "code",
      "metadata": {
        "colab": {
          "base_uri": "https://localhost:8080/"
        },
        "id": "d2Pv_jrauTnx",
        "outputId": "14c980f6-1556-4b96-c889-6cbe9d3675f8"
      },
      "source": [
        "print(string_sample)"
      ],
      "execution_count": null,
      "outputs": [
        {
          "output_type": "stream",
          "name": "stdout",
          "text": [
            "-0.7571009993553162 -1.032955288887024 -0.7870947122573853 1.0524816513061523 -0.5144277811050415 -1.3852720260620117 -0.8209407329559326 0.14624309539794922 0.3576781153678894 -1.0865501165390015 -0.16580255329608917 1.5160596370697021 -0.8015868067741394 2.3409523963928223 1.4964288473129272 2.192047595977783 -0.5492921471595764 0.2313826084136963 1.260237455368042 0.5993461012840271 -0.9113841652870178 -0.8961969614028931 2.1712636947631836 1.1567867994308472 1.538431167602539 -1.216883897781372 -1.6310796737670898 -1.2323887348175049 -2.0903656482696533 1.421687126159668 -0.27893170714378357 0.624790370464325 -0.2987031936645508 -2.0983057022094727 0.5122988820075989 1.0679155588150024 -0.3524435758590698 -0.07304379343986511 0.23687298595905304 -0.06327390670776367 -1.3078484535217285 1.3419749736785889 0.629676103591919 -0.38760435581207275 -0.7348389029502869 -0.4229176342487335 -16.710525512695312 1.5709049701690674 0.2795099914073944 -0.39116790890693665 1.511204719543457 -2.1593117713928223 -0.36305922269821167 0.40886756777763367 1.2471654415130615 1.2813116312026978 -0.23837490379810333 -0.71892911195755 -0.37459874153137207 -0.2481735646724701 -0.1100640520453453 0.4041140079498291 -1.6749688386917114 -0.217189222574234 -2.1624486446380615 -0.4427025616168976 1.4764525890350342 -0.5747423768043518 0.0522262379527092 1.7565547227859497 -0.3809278607368469 0.35409361124038696 0.9161853790283203 -0.24031062424182892 -0.20066870748996735 0.421326220035553 -1.3501877784729004 2.066059112548828 -0.3585488498210907 0.7098891139030457 -1.2269649505615234 0.7393969297409058 0.864915668964386 -0.39173275232315063 -0.6129200458526611 1.1951684951782227 -1.3930760622024536 0.10018423944711685 0.8678934574127197 0.1315329372882843 -0.9898726940155029 0.23677220940589905 -0.6149553060531616 0.7494324445724487 1.921487808227539 -0.3693070709705353 0.13427028059959412 -0.7553659081459045 -0.5165668725967407 2.1445744037628174 1.574155330657959 0.6773883700370789 1.3130483627319336 -1.990450143814087 -0.7929543256759644 0.24089062213897705 0.9431288242340088 -0.23799608647823334 -1.6878397464752197 -2.0229454040527344 1.7720906734466553 0.21610525250434875 1.091818928718567 -1.8441907167434692 -0.47681015729904175 -1.179260492324829 0.9195948839187622 -1.1559295654296875 0.9842969179153442 -1.6773219108581543 -0.24660563468933105 -1.2028467655181885 -0.8530240058898926 -1.6620135307312012 1.4007948637008667 -3.015507698059082 1.4179744720458984 -0.08808739483356476 0.6647040247917175 0.9486678242683411 -0.40556880831718445 -0.5198860168457031 -0.4311172366142273 0.6414209604263306 -0.2279723882675171 2.5733861923217773 -0.1323060393333435 -0.8877347111701965 -2.149974822998047 1.6917171478271484 -2.6541666984558105 -1.6559985876083374 -6.426263809204102 1.5597610473632812 2.5195741653442383 1.4995967149734497 1.7363946437835693 1.290435791015625 0.8786666393280029 -0.8038443922996521 -0.8245269060134888 -0.5444151759147644 -0.4386044442653656 -0.548559308052063 -0.6928389668464661 -0.2691371738910675 -0.5123168230056763 -1.2189775705337524 -0.0026523619890213013 1.895880937576294 0.24811139702796936 -0.01629202626645565 1.0220078229904175 -1.831895112991333 1.2165048122406006 1.0062706470489502 1.320716381072998 0.3963235914707184 0.004202365875244141 -0.7201461791992188 0.6016944646835327 0.3628222942352295 1.6259870529174805 -2.0317351818084717 0.23383787274360657 0.38479846715927124 -0.936693549156189 1.9662379026412964 0.006932906806468964 0.762114405632019 -0.4335712194442749 1.219711184501648 1.2471973896026611 -0.1316278725862503 1.1423851251602173 0.031024128198623657 0.4749797284603119 -0.3212628662586212 0.28502073884010315 0.5959517955780029 -0.40044164657592773 -1.9474451541900635 0.2590203285217285 -1.1921042203903198 0.04612649232149124 0.05676771700382233 1.5012485980987549 -1.6456170082092285 -0.4249425232410431 0.09137400984764099 -0.21282434463500977 1.3859822750091553 -2.6756396293640137 -1.2271753549575806 0.2562180459499359 10.713395118713379 -0.5443965196609497 0.7897822856903076 0.7433223724365234 0.15597137808799744 -0.8487192988395691 -1.918411135673523 -2.0320653915405273 1.3577500581741333 -2.2424845695495605 1.7127952575683594 -1.1719332933425903 -0.5448414087295532 -0.8037235736846924 -0.6090100407600403 -1.0893326997756958 2.8377845287323 -1.3050546646118164 0.08751123398542404 -2.6405131816864014 0.35864782333374023 -2.794234275817871 0.3386242985725403 -0.03234994411468506 -6.792541980743408 2.1535074710845947 -1.0635427236557007 -1.8090894222259521 -0.2751571238040924 0.7894662022590637 -0.8332003355026245 0.18415500223636627 1.3529282808303833 -0.28042736649513245 -0.7666296362876892 -1.8470791578292847 -1.4577383995056152 2.1861190795898438 1.7982749938964844 0.31062740087509155 1.3082865476608276 0.4894149899482727 -0.9298902750015259 0.20661243796348572 -0.1432347446680069 0.030146732926368713 2.9139456748962402 1.6776942014694214 0.40518054366111755 0.6005021333694458 0.5225802659988403 -0.30869731307029724 1.0200912952423096 -0.1053520143032074 -1.953136682510376 -0.840177059173584 0.6065833568572998 -0.6132895946502686 2.03983211517334 -1.0420656204223633 -0.28356993198394775 -0.3777240216732025 -2.2911856174468994 0.5242835283279419 -1.6888245344161987 0.3923470973968506 -0.5515705943107605 -3.3505382537841797 -2.3515570163726807 -0.4785746932029724 -1.4629279375076294 -0.004461608827114105 1.153862476348877 2.3098433017730713 -0.8766058683395386 0.3224451243877411 -0.6046074032783508 -0.04534267634153366 2.305469036102295 0.2043052315711975 -0.8061692714691162 1.427799940109253 -2.571380138397217 1.3668855428695679 0.44407403469085693 -0.9260792136192322 -2.2012743949890137 -2.274646043777466 -0.2032279372215271 -0.23286232352256775 0.22719448804855347 0.8880754709243774 0.3173360526561737 1.7340974807739258 -1.6756922006607056 -3.59564471244812 1.2893452644348145 -0.3883231580257416 -1.2234498262405396 -0.9864785075187683 -1.0156329870224 -1.9009449481964111 0.05724947154521942 -21.24579429626465 1.5359244346618652 -0.6846925020217896 -0.22245337069034576 1.0368659496307373 0.14340348541736603 3.348843812942505 -0.9608280658721924 -0.4338919520378113 0.8527226448059082 2.894143581390381 -1.016639232635498 3.008692741394043 -2.711758852005005 1.0339815616607666 0.2470993548631668 2.2979602813720703 -2.44884991645813 -0.5380641222000122 0.38181406259536743 -1.3471037149429321 -0.9670161604881287 1.127052903175354 -0.2675471305847168 0.6093534231185913 0.20685936510562897 -4.016937255859375 -1.8622509241104126 1.417219877243042 -0.7656918168067932 1.1918747425079346 -2.41806697845459 -0.03720374405384064 1.8457139730453491 0.12647783756256104 -1.2797945737838745 -1.5357288122177124 -1.1564075946807861 1.831782341003418 -0.15642887353897095 0.6894051432609558 1.7244844436645508 -0.48919907212257385 -1.7547740936279297 -0.48831331729888916 0.2229357361793518 1.9087897539138794 2.14808988571167 1.0538668632507324 0.5950314998626709 1.1623181104660034 0.9482955932617188 4.372952461242676 -0.36491525173187256 0.25265657901763916 -0.8799540996551514 0.44705450534820557 -1.4259583950042725 -1.4232219457626343 0.4861861765384674 3.2928528785705566 -2.031118631362915 1.0764168500900269 -0.5451322197914124 2.5901272296905518 -2.1545307636260986 1.3815661668777466 -2.3923215866088867 -1.4273358583450317 -0.8586827516555786 -1.9997059106826782 1.6060006618499756 -1.9454879760742188 -14.708913803100586 -0.22990316152572632 -0.3352826237678528 0.4222150444984436 -0.21894428133964539 0.02271685004234314 1.7587904930114746 -0.6023960113525391 -0.051282379776239395 -0.5833271145820618 -0.19631031155586243 -1.6613765954971313 -0.5964983701705933 -1.1416019201278687 0.8768007159233093 -0.534435510635376 -0.03477536141872406 0.05176711082458496 -0.5302290320396423 1.557826280593872 0.9124417304992676 -0.447971910238266 -0.27269402146339417 1.4064011573791504 -0.4408833086490631 2.022050142288208 3.152651309967041 -1.4709599018096924 -0.7441537380218506 -0.7573494911193848 -0.7076488733291626 -1.7247436046600342 -3.598811626434326 -0.12149930000305176 2.2789971828460693 -0.23073813319206238 0.6328126788139343 -1.8868473768234253 0.1659604161977768 0.7724677324295044 -0.30039486289024353 3.6384220123291016 -2.751591920852661 1.68825101852417 1.0554715394973755 2.183243751525879 -1.9972625970840454 2.1772732734680176 -0.2914386987686157 0.6160385608673096 0.8525774478912354 1.1598365306854248 -1.6187348365783691 -0.09150782972574234 1.8763715028762817 -0.6472852826118469 -0.3237167000770569 -0.020998110994696617 1.1232600212097168 -2.278268337249756 -0.27603211998939514 -0.6108002662658691 0.5173563957214355 -0.6743327379226685 -0.03731768578290939 0.9220591187477112 3.4111201763153076 2.566819667816162 0.7343848347663879 -1.4099748134613037 0.8088493347167969 -0.6402878165245056 0.09038844704627991 0.38315629959106445 2.423720359802246 0.6309694647789001 1.601665735244751 -0.35252875089645386 3.054840087890625 1.1060408353805542 -0.6066407561302185 0.06373714655637741 1.2950435876846313 -1.0340322256088257 -0.15385130047798157 0.3715207278728485 -0.06681837141513824 1.891399621963501 2.2277441024780273 -9.691133499145508 -1.91812002658844 1.5409456491470337 0.43875908851623535 1.4916337728500366 -0.610901415348053 1.23723304271698 2.1170239448547363 -1.3388371467590332 0.14403629302978516 -0.5757983922958374 0.5806544423103333 -1.1972588300704956 -1.9102838039398193 0.20125137269496918 -0.6595320701599121 0.45786935091018677 -0.2148318886756897 2.0116615295410156 1.1118918657302856 -0.6878005266189575 2.5333242416381836 1.6516098976135254 0.02757359854876995 0.7330653667449951 -1.1901483535766602 -1.8740155696868896 -0.03785321116447449 1.3555619716644287 1.6078546047210693 1.5722581148147583 0.28701210021972656 -0.6515411734580994 -2.2938425540924072 0.5976350903511047 0.23853933811187744 1.2018702030181885 0.4343473017215729 -0.4372972846031189 2.114084005355835 -0.6654619574546814 1.4151642322540283 1.0284032821655273 2.2947139739990234 2.6398487091064453 -0.41943004727363586 -0.8642466068267822 -1.1858359575271606 -1.0277128219604492 0.2640853226184845 1.493350625038147 1.5351922512054443 -1.7930941581726074 -0.9868645071983337 -1.9296835660934448 -0.2668191194534302 -1.2038966417312622 1.6141455173492432 -3.102773666381836 -0.3483285903930664 3.9224321842193604 -2.366802930831909 -0.4385397136211395 -0.6599609851837158 0.1769053041934967 -2.9286344051361084 -1.2268965244293213 0.5319703817367554 -2.044135808944702 2.0418009757995605 0.904958963394165 -0.5521008372306824 -1.1428731679916382 2.7113945484161377 -0.29445886611938477 1.132840871810913 -0.6923424005508423 0.13019587099552155 0.129545658826828 -0.35618680715560913 -0.06621372699737549 -0.738334596157074 1.1190745830535889 1.5186409950256348 1.1722989082336426 2.605374336242676 -0.9038591384887695 -0.7548635601997375 0.4642806351184845 0.8741317987442017 -1.9439547061920166 -1.113635778427124 0.9880384206771851 0.13397836685180664 0.8736756443977356 -0.8693360090255737 -0.7941339612007141 -2.7039871215820312 -1.90864896774292 -2.322176933288574 -2.603900671005249 0.4072853922843933 0.6936361193656921 -0.8056618571281433 -1.6581671237945557 3.411294460296631 2.0142688751220703 0.29267820715904236 -0.7234907150268555 -0.4778449833393097 1.595538854598999 -0.751049280166626 -0.8211103081703186 1.4579174518585205 1.6439392566680908 -0.7230274677276611 1.0598233938217163 -2.130908489227295 1.6109347343444824 -0.45628321170806885 -1.4226562976837158 -0.5868253111839294 1.8130788803100586 0.1737176775932312 0.13214828073978424 0.5769432783126831 -0.7484232783317566 1.7669011354446411 -1.5448130369186401 1.8106571435928345 -0.675891101360321 -1.2984741926193237 3.0307178497314453 1.0028537511825562 0.3519158661365509 0.19360730051994324 -1.764948844909668 1.8592023849487305 -1.1156901121139526 1.985182762145996 0.06936745345592499 -1.5575125217437744 -2.281714916229248 1.3724069595336914 -0.6315901279449463 1.2500054836273193 0.8846111297607422 2.0733704566955566 1.7767413854599 1.0823825597763062 -0.38602569699287415 2.2566018104553223 -1.4121718406677246 -0.4471447765827179 -0.9859831929206848 0.2957465648651123 -0.36709412932395935 0.48037344217300415 1.4655120372772217 -0.45107781887054443 0.4426642060279846 -1.738705039024353 0.6215223670005798 1.4271552562713623 0.565087080001831 -1.2298829555511475 1.4084503650665283 2.9688706398010254 -0.725855827331543 -0.577674150466919 0.557544469833374 -1.092780590057373 0.1867031753063202 0.006028592586517334 -1.800970435142517 0.05393112450838089 -1.8321160078048706 1.6673330068588257 -0.649906575679779 -0.28760698437690735 3.0697555541992188 -2.26165771484375 -1.2949074506759644 -1.0567502975463867 -0.36549630761146545 1.4043608903884888 0.9002252817153931 -1.6626707315444946 0.4692804515361786 1.883862018585205 2.640955924987793 1.8329261541366577 1.2950959205627441 1.3720417022705078 1.0971136093139648 0.7972104549407959 -0.3423181474208832 -3.8617970943450928 -0.4127824902534485 0.08842137455940247 1.0288071632385254 -0.7273697853088379 2.1075353622436523 2.3253791332244873 -0.9321385622024536 -0.12251643091440201 0.6371296644210815 -1.2065472602844238 2.0336339473724365 3.335322856903076 -0.39192497730255127 1.0588812828063965 -2.810009002685547 -1.6959224939346313 -0.9291844367980957 0.16229119896888733 1.0464500188827515 1.0380377769470215 0.2612791359424591 -1.699990153312683 -2.00343656539917 -1.900552749633789 0.8113383054733276 0.9858132600784302 1.150994062423706 0.6895467638969421 -1.1667163372039795 -1.1332147121429443 2.0516257286071777 -1.280195951461792 -2.3845255374908447 1.9693777561187744 0.9333535432815552 -1.3999611139297485 0.22621920704841614 -1.374014139175415 0.411144882440567 -0.47584012150764465 3.155332565307617 -2.2625346183776855 0.5315109491348267 1.3140276670455933 -0.43396279215812683 1.2386703491210938 -1.2543175220489502 0.9749506711959839 0.29375800490379333 0.27884986996650696 1.1870439052581787 0.35204997658729553 0.41079142689704895 0.367976576089859 -0.09041561931371689 0.3724561631679535 0.40937796235084534 -1.1311290264129639 -1.6017098426818848 -2.001008987426758 -0.6197533011436462 -1.400748610496521 -1.5798234939575195 1.3393683433532715 -0.3000812530517578 -1.9227063655853271 -0.01218627393245697 -0.7149829864501953 -2.785174608230591 -1.7025195360183716 1.0889607667922974 -0.09262625873088837 0.7830029726028442 0.5091087818145752 -0.21393433213233948 0.10249338299036026 0.9979720115661621 -1.3543699979782104 -2.17179012298584 0.8973943591117859 1.5994231700897217 0.39874157309532166 -1.7891664505004883 -1.9361331462860107 -5.973390579223633 0.5608103275299072 -2.9405550956726074 0.5746013522148132 -1.3127201795578003 -2.786482334136963 -1.2428922653198242 0.46998196840286255 -1.4027729034423828 -2.2172751426696777 -0.2424490749835968 -0.32886719703674316 0.5938944220542908 0.6765986680984497 1.5167732238769531 -0.28970086574554443\n"
          ]
        }
      ]
    },
    {
      "cell_type": "code",
      "metadata": {
        "colab": {
          "base_uri": "https://localhost:8080/"
        },
        "id": "bspsXLUJun6y",
        "outputId": "6cc2cda3-9952-492b-95fd-75c8adf8f875"
      },
      "source": [
        "full_string=global_tokens[0][4] + \" \"+string_sample\n",
        "print(full_string)"
      ],
      "execution_count": null,
      "outputs": [
        {
          "output_type": "stream",
          "name": "stdout",
          "text": [
            "secretary -0.7571009993553162 -1.032955288887024 -0.7870947122573853 1.0524816513061523 -0.5144277811050415 -1.3852720260620117 -0.8209407329559326 0.14624309539794922 0.3576781153678894 -1.0865501165390015 -0.16580255329608917 1.5160596370697021 -0.8015868067741394 2.3409523963928223 1.4964288473129272 2.192047595977783 -0.5492921471595764 0.2313826084136963 1.260237455368042 0.5993461012840271 -0.9113841652870178 -0.8961969614028931 2.1712636947631836 1.1567867994308472 1.538431167602539 -1.216883897781372 -1.6310796737670898 -1.2323887348175049 -2.0903656482696533 1.421687126159668 -0.27893170714378357 0.624790370464325 -0.2987031936645508 -2.0983057022094727 0.5122988820075989 1.0679155588150024 -0.3524435758590698 -0.07304379343986511 0.23687298595905304 -0.06327390670776367 -1.3078484535217285 1.3419749736785889 0.629676103591919 -0.38760435581207275 -0.7348389029502869 -0.4229176342487335 -16.710525512695312 1.5709049701690674 0.2795099914073944 -0.39116790890693665 1.511204719543457 -2.1593117713928223 -0.36305922269821167 0.40886756777763367 1.2471654415130615 1.2813116312026978 -0.23837490379810333 -0.71892911195755 -0.37459874153137207 -0.2481735646724701 -0.1100640520453453 0.4041140079498291 -1.6749688386917114 -0.217189222574234 -2.1624486446380615 -0.4427025616168976 1.4764525890350342 -0.5747423768043518 0.0522262379527092 1.7565547227859497 -0.3809278607368469 0.35409361124038696 0.9161853790283203 -0.24031062424182892 -0.20066870748996735 0.421326220035553 -1.3501877784729004 2.066059112548828 -0.3585488498210907 0.7098891139030457 -1.2269649505615234 0.7393969297409058 0.864915668964386 -0.39173275232315063 -0.6129200458526611 1.1951684951782227 -1.3930760622024536 0.10018423944711685 0.8678934574127197 0.1315329372882843 -0.9898726940155029 0.23677220940589905 -0.6149553060531616 0.7494324445724487 1.921487808227539 -0.3693070709705353 0.13427028059959412 -0.7553659081459045 -0.5165668725967407 2.1445744037628174 1.574155330657959 0.6773883700370789 1.3130483627319336 -1.990450143814087 -0.7929543256759644 0.24089062213897705 0.9431288242340088 -0.23799608647823334 -1.6878397464752197 -2.0229454040527344 1.7720906734466553 0.21610525250434875 1.091818928718567 -1.8441907167434692 -0.47681015729904175 -1.179260492324829 0.9195948839187622 -1.1559295654296875 0.9842969179153442 -1.6773219108581543 -0.24660563468933105 -1.2028467655181885 -0.8530240058898926 -1.6620135307312012 1.4007948637008667 -3.015507698059082 1.4179744720458984 -0.08808739483356476 0.6647040247917175 0.9486678242683411 -0.40556880831718445 -0.5198860168457031 -0.4311172366142273 0.6414209604263306 -0.2279723882675171 2.5733861923217773 -0.1323060393333435 -0.8877347111701965 -2.149974822998047 1.6917171478271484 -2.6541666984558105 -1.6559985876083374 -6.426263809204102 1.5597610473632812 2.5195741653442383 1.4995967149734497 1.7363946437835693 1.290435791015625 0.8786666393280029 -0.8038443922996521 -0.8245269060134888 -0.5444151759147644 -0.4386044442653656 -0.548559308052063 -0.6928389668464661 -0.2691371738910675 -0.5123168230056763 -1.2189775705337524 -0.0026523619890213013 1.895880937576294 0.24811139702796936 -0.01629202626645565 1.0220078229904175 -1.831895112991333 1.2165048122406006 1.0062706470489502 1.320716381072998 0.3963235914707184 0.004202365875244141 -0.7201461791992188 0.6016944646835327 0.3628222942352295 1.6259870529174805 -2.0317351818084717 0.23383787274360657 0.38479846715927124 -0.936693549156189 1.9662379026412964 0.006932906806468964 0.762114405632019 -0.4335712194442749 1.219711184501648 1.2471973896026611 -0.1316278725862503 1.1423851251602173 0.031024128198623657 0.4749797284603119 -0.3212628662586212 0.28502073884010315 0.5959517955780029 -0.40044164657592773 -1.9474451541900635 0.2590203285217285 -1.1921042203903198 0.04612649232149124 0.05676771700382233 1.5012485980987549 -1.6456170082092285 -0.4249425232410431 0.09137400984764099 -0.21282434463500977 1.3859822750091553 -2.6756396293640137 -1.2271753549575806 0.2562180459499359 10.713395118713379 -0.5443965196609497 0.7897822856903076 0.7433223724365234 0.15597137808799744 -0.8487192988395691 -1.918411135673523 -2.0320653915405273 1.3577500581741333 -2.2424845695495605 1.7127952575683594 -1.1719332933425903 -0.5448414087295532 -0.8037235736846924 -0.6090100407600403 -1.0893326997756958 2.8377845287323 -1.3050546646118164 0.08751123398542404 -2.6405131816864014 0.35864782333374023 -2.794234275817871 0.3386242985725403 -0.03234994411468506 -6.792541980743408 2.1535074710845947 -1.0635427236557007 -1.8090894222259521 -0.2751571238040924 0.7894662022590637 -0.8332003355026245 0.18415500223636627 1.3529282808303833 -0.28042736649513245 -0.7666296362876892 -1.8470791578292847 -1.4577383995056152 2.1861190795898438 1.7982749938964844 0.31062740087509155 1.3082865476608276 0.4894149899482727 -0.9298902750015259 0.20661243796348572 -0.1432347446680069 0.030146732926368713 2.9139456748962402 1.6776942014694214 0.40518054366111755 0.6005021333694458 0.5225802659988403 -0.30869731307029724 1.0200912952423096 -0.1053520143032074 -1.953136682510376 -0.840177059173584 0.6065833568572998 -0.6132895946502686 2.03983211517334 -1.0420656204223633 -0.28356993198394775 -0.3777240216732025 -2.2911856174468994 0.5242835283279419 -1.6888245344161987 0.3923470973968506 -0.5515705943107605 -3.3505382537841797 -2.3515570163726807 -0.4785746932029724 -1.4629279375076294 -0.004461608827114105 1.153862476348877 2.3098433017730713 -0.8766058683395386 0.3224451243877411 -0.6046074032783508 -0.04534267634153366 2.305469036102295 0.2043052315711975 -0.8061692714691162 1.427799940109253 -2.571380138397217 1.3668855428695679 0.44407403469085693 -0.9260792136192322 -2.2012743949890137 -2.274646043777466 -0.2032279372215271 -0.23286232352256775 0.22719448804855347 0.8880754709243774 0.3173360526561737 1.7340974807739258 -1.6756922006607056 -3.59564471244812 1.2893452644348145 -0.3883231580257416 -1.2234498262405396 -0.9864785075187683 -1.0156329870224 -1.9009449481964111 0.05724947154521942 -21.24579429626465 1.5359244346618652 -0.6846925020217896 -0.22245337069034576 1.0368659496307373 0.14340348541736603 3.348843812942505 -0.9608280658721924 -0.4338919520378113 0.8527226448059082 2.894143581390381 -1.016639232635498 3.008692741394043 -2.711758852005005 1.0339815616607666 0.2470993548631668 2.2979602813720703 -2.44884991645813 -0.5380641222000122 0.38181406259536743 -1.3471037149429321 -0.9670161604881287 1.127052903175354 -0.2675471305847168 0.6093534231185913 0.20685936510562897 -4.016937255859375 -1.8622509241104126 1.417219877243042 -0.7656918168067932 1.1918747425079346 -2.41806697845459 -0.03720374405384064 1.8457139730453491 0.12647783756256104 -1.2797945737838745 -1.5357288122177124 -1.1564075946807861 1.831782341003418 -0.15642887353897095 0.6894051432609558 1.7244844436645508 -0.48919907212257385 -1.7547740936279297 -0.48831331729888916 0.2229357361793518 1.9087897539138794 2.14808988571167 1.0538668632507324 0.5950314998626709 1.1623181104660034 0.9482955932617188 4.372952461242676 -0.36491525173187256 0.25265657901763916 -0.8799540996551514 0.44705450534820557 -1.4259583950042725 -1.4232219457626343 0.4861861765384674 3.2928528785705566 -2.031118631362915 1.0764168500900269 -0.5451322197914124 2.5901272296905518 -2.1545307636260986 1.3815661668777466 -2.3923215866088867 -1.4273358583450317 -0.8586827516555786 -1.9997059106826782 1.6060006618499756 -1.9454879760742188 -14.708913803100586 -0.22990316152572632 -0.3352826237678528 0.4222150444984436 -0.21894428133964539 0.02271685004234314 1.7587904930114746 -0.6023960113525391 -0.051282379776239395 -0.5833271145820618 -0.19631031155586243 -1.6613765954971313 -0.5964983701705933 -1.1416019201278687 0.8768007159233093 -0.534435510635376 -0.03477536141872406 0.05176711082458496 -0.5302290320396423 1.557826280593872 0.9124417304992676 -0.447971910238266 -0.27269402146339417 1.4064011573791504 -0.4408833086490631 2.022050142288208 3.152651309967041 -1.4709599018096924 -0.7441537380218506 -0.7573494911193848 -0.7076488733291626 -1.7247436046600342 -3.598811626434326 -0.12149930000305176 2.2789971828460693 -0.23073813319206238 0.6328126788139343 -1.8868473768234253 0.1659604161977768 0.7724677324295044 -0.30039486289024353 3.6384220123291016 -2.751591920852661 1.68825101852417 1.0554715394973755 2.183243751525879 -1.9972625970840454 2.1772732734680176 -0.2914386987686157 0.6160385608673096 0.8525774478912354 1.1598365306854248 -1.6187348365783691 -0.09150782972574234 1.8763715028762817 -0.6472852826118469 -0.3237167000770569 -0.020998110994696617 1.1232600212097168 -2.278268337249756 -0.27603211998939514 -0.6108002662658691 0.5173563957214355 -0.6743327379226685 -0.03731768578290939 0.9220591187477112 3.4111201763153076 2.566819667816162 0.7343848347663879 -1.4099748134613037 0.8088493347167969 -0.6402878165245056 0.09038844704627991 0.38315629959106445 2.423720359802246 0.6309694647789001 1.601665735244751 -0.35252875089645386 3.054840087890625 1.1060408353805542 -0.6066407561302185 0.06373714655637741 1.2950435876846313 -1.0340322256088257 -0.15385130047798157 0.3715207278728485 -0.06681837141513824 1.891399621963501 2.2277441024780273 -9.691133499145508 -1.91812002658844 1.5409456491470337 0.43875908851623535 1.4916337728500366 -0.610901415348053 1.23723304271698 2.1170239448547363 -1.3388371467590332 0.14403629302978516 -0.5757983922958374 0.5806544423103333 -1.1972588300704956 -1.9102838039398193 0.20125137269496918 -0.6595320701599121 0.45786935091018677 -0.2148318886756897 2.0116615295410156 1.1118918657302856 -0.6878005266189575 2.5333242416381836 1.6516098976135254 0.02757359854876995 0.7330653667449951 -1.1901483535766602 -1.8740155696868896 -0.03785321116447449 1.3555619716644287 1.6078546047210693 1.5722581148147583 0.28701210021972656 -0.6515411734580994 -2.2938425540924072 0.5976350903511047 0.23853933811187744 1.2018702030181885 0.4343473017215729 -0.4372972846031189 2.114084005355835 -0.6654619574546814 1.4151642322540283 1.0284032821655273 2.2947139739990234 2.6398487091064453 -0.41943004727363586 -0.8642466068267822 -1.1858359575271606 -1.0277128219604492 0.2640853226184845 1.493350625038147 1.5351922512054443 -1.7930941581726074 -0.9868645071983337 -1.9296835660934448 -0.2668191194534302 -1.2038966417312622 1.6141455173492432 -3.102773666381836 -0.3483285903930664 3.9224321842193604 -2.366802930831909 -0.4385397136211395 -0.6599609851837158 0.1769053041934967 -2.9286344051361084 -1.2268965244293213 0.5319703817367554 -2.044135808944702 2.0418009757995605 0.904958963394165 -0.5521008372306824 -1.1428731679916382 2.7113945484161377 -0.29445886611938477 1.132840871810913 -0.6923424005508423 0.13019587099552155 0.129545658826828 -0.35618680715560913 -0.06621372699737549 -0.738334596157074 1.1190745830535889 1.5186409950256348 1.1722989082336426 2.605374336242676 -0.9038591384887695 -0.7548635601997375 0.4642806351184845 0.8741317987442017 -1.9439547061920166 -1.113635778427124 0.9880384206771851 0.13397836685180664 0.8736756443977356 -0.8693360090255737 -0.7941339612007141 -2.7039871215820312 -1.90864896774292 -2.322176933288574 -2.603900671005249 0.4072853922843933 0.6936361193656921 -0.8056618571281433 -1.6581671237945557 3.411294460296631 2.0142688751220703 0.29267820715904236 -0.7234907150268555 -0.4778449833393097 1.595538854598999 -0.751049280166626 -0.8211103081703186 1.4579174518585205 1.6439392566680908 -0.7230274677276611 1.0598233938217163 -2.130908489227295 1.6109347343444824 -0.45628321170806885 -1.4226562976837158 -0.5868253111839294 1.8130788803100586 0.1737176775932312 0.13214828073978424 0.5769432783126831 -0.7484232783317566 1.7669011354446411 -1.5448130369186401 1.8106571435928345 -0.675891101360321 -1.2984741926193237 3.0307178497314453 1.0028537511825562 0.3519158661365509 0.19360730051994324 -1.764948844909668 1.8592023849487305 -1.1156901121139526 1.985182762145996 0.06936745345592499 -1.5575125217437744 -2.281714916229248 1.3724069595336914 -0.6315901279449463 1.2500054836273193 0.8846111297607422 2.0733704566955566 1.7767413854599 1.0823825597763062 -0.38602569699287415 2.2566018104553223 -1.4121718406677246 -0.4471447765827179 -0.9859831929206848 0.2957465648651123 -0.36709412932395935 0.48037344217300415 1.4655120372772217 -0.45107781887054443 0.4426642060279846 -1.738705039024353 0.6215223670005798 1.4271552562713623 0.565087080001831 -1.2298829555511475 1.4084503650665283 2.9688706398010254 -0.725855827331543 -0.577674150466919 0.557544469833374 -1.092780590057373 0.1867031753063202 0.006028592586517334 -1.800970435142517 0.05393112450838089 -1.8321160078048706 1.6673330068588257 -0.649906575679779 -0.28760698437690735 3.0697555541992188 -2.26165771484375 -1.2949074506759644 -1.0567502975463867 -0.36549630761146545 1.4043608903884888 0.9002252817153931 -1.6626707315444946 0.4692804515361786 1.883862018585205 2.640955924987793 1.8329261541366577 1.2950959205627441 1.3720417022705078 1.0971136093139648 0.7972104549407959 -0.3423181474208832 -3.8617970943450928 -0.4127824902534485 0.08842137455940247 1.0288071632385254 -0.7273697853088379 2.1075353622436523 2.3253791332244873 -0.9321385622024536 -0.12251643091440201 0.6371296644210815 -1.2065472602844238 2.0336339473724365 3.335322856903076 -0.39192497730255127 1.0588812828063965 -2.810009002685547 -1.6959224939346313 -0.9291844367980957 0.16229119896888733 1.0464500188827515 1.0380377769470215 0.2612791359424591 -1.699990153312683 -2.00343656539917 -1.900552749633789 0.8113383054733276 0.9858132600784302 1.150994062423706 0.6895467638969421 -1.1667163372039795 -1.1332147121429443 2.0516257286071777 -1.280195951461792 -2.3845255374908447 1.9693777561187744 0.9333535432815552 -1.3999611139297485 0.22621920704841614 -1.374014139175415 0.411144882440567 -0.47584012150764465 3.155332565307617 -2.2625346183776855 0.5315109491348267 1.3140276670455933 -0.43396279215812683 1.2386703491210938 -1.2543175220489502 0.9749506711959839 0.29375800490379333 0.27884986996650696 1.1870439052581787 0.35204997658729553 0.41079142689704895 0.367976576089859 -0.09041561931371689 0.3724561631679535 0.40937796235084534 -1.1311290264129639 -1.6017098426818848 -2.001008987426758 -0.6197533011436462 -1.400748610496521 -1.5798234939575195 1.3393683433532715 -0.3000812530517578 -1.9227063655853271 -0.01218627393245697 -0.7149829864501953 -2.785174608230591 -1.7025195360183716 1.0889607667922974 -0.09262625873088837 0.7830029726028442 0.5091087818145752 -0.21393433213233948 0.10249338299036026 0.9979720115661621 -1.3543699979782104 -2.17179012298584 0.8973943591117859 1.5994231700897217 0.39874157309532166 -1.7891664505004883 -1.9361331462860107 -5.973390579223633 0.5608103275299072 -2.9405550956726074 0.5746013522148132 -1.3127201795578003 -2.786482334136963 -1.2428922653198242 0.46998196840286255 -1.4027729034423828 -2.2172751426696777 -0.2424490749835968 -0.32886719703674316 0.5938944220542908 0.6765986680984497 1.5167732238769531 -0.28970086574554443\n"
          ]
        }
      ]
    },
    {
      "cell_type": "markdown",
      "metadata": {
        "id": "rFbVcLkepZlc"
      },
      "source": [
        "## Printing the values into a text file\n",
        "Format: First line has [number of words][space][dimension of each embedding],\n",
        "and each line has [word] followed by the embedding vector values. "
      ]
    },
    {
      "cell_type": "code",
      "metadata": {
        "id": "gzMwJdfBqF8Q"
      },
      "source": [
        "with open('/content/drive/MyDrive/Bert_embeddings.txt', 'w') as f:\n",
        "    f.write(str(len(global_dict))+\" 768\")\n",
        "    f.write('\\n')\n",
        "    for key, value in global_dict.items():\n",
        "      np_arr = value.cpu().detach().numpy()\n",
        "      lis = np_arr.tolist()\n",
        "      string_embedding=\" \".join(str(item) for item in lis)\n",
        "      full_string=key + \" \" + string_embedding\n",
        "      f.write(full_string)\n",
        "      f.write('\\n')"
      ],
      "execution_count": null,
      "outputs": []
    },
    {
      "cell_type": "code",
      "metadata": {
        "id": "lWljAldppnNB"
      },
      "source": [
        ""
      ],
      "execution_count": null,
      "outputs": []
    }
  ]
}